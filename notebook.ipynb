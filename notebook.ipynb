{
 "cells": [
  {
   "cell_type": "markdown",
   "id": "f8b70d12",
   "metadata": {},
   "source": [
    "# How does income influence food choices? 🥗💰\n",
    "\n",
    "\n",
    "## 📖 Background\n",
    "Does eating healthy depend on what’s in your wallet? While some believe nutritious food is a luxury reserved for those who can afford it, others argue that education, accessibility, and policy interventions play an even bigger role.\n",
    "\n",
    "As part of a public health research team, your mission is to uncover the real factors driving food choices. Are healthier foods truly more expensive, or do regional access, income distribution, and availability have a greater impact?\n",
    "\n",
    "Your insights could help shape smarter food policies, making healthy eating more affordable and accessible for all. Are you ready to dig into the data and make a real-world impact?"
   ]
  },
  {
   "cell_type": "markdown",
   "id": "bb4cd736",
   "metadata": {},
   "source": [
    "## 💾 The data \n",
    "\n",
    "Your team gathered three datasets to analyze the relationship between income levels and food choices:\n",
    "\n",
    "### Income-Expenditure\n",
    "- **`Mthly_HH_Income`** – Monthly household income\n",
    "- **`Mthly_HH_Expense`** – Total monthly household expenses\n",
    "- **`No_of_Fly_Members`** – Number of family members\n",
    "- **`Emi_or_Rent_Amt`** – Rent or loan payments\n",
    "- **`Annual_HH_Income`** – Annual household income\n",
    "- **`Highest_Qualified_Member`** – Education level of the most qualified household member\n",
    "- **`No_of_Earning_Members`** – Number of income earners in the household\n",
    "\n",
    "### Dietary Habits Survey Data\n",
    "- **`Age`** – Age group of the respondent\n",
    "- **`Gender`** – Male/Female\n",
    "- **`Dietary Preference`** – Vegetarian, Non-Vegetarian, Vegan, etc.\n",
    "- **`Meal Frequency`** – How often certain food types are consumed\n",
    "- **`Food Restrictions`** – Allergies and dietary restrictions\n",
    "- **`Beverage Intake`** – Hydration and drink preferences\n",
    "\n",
    "### Food Prices\n",
    "- **`Year`** – Year of data collection\n",
    "- **`Month`** – Month of data collection\n",
    "- **`Metroregion_code`** – Geographic area code\n",
    "- **`EFPG_code`** – Food category (e.g., whole grains, processed foods)\n",
    "- **`Attribute`** – Type of data recorded (e.g., price, purchase amount)\n",
    "- **`Value`** – Numeric value of the recorded attribute"
   ]
  },
  {
   "cell_type": "markdown",
   "id": "6c0744d0",
   "metadata": {},
   "source": [
    "## 💪 Challenge  \n",
    "Your public health research team has been asked to advise policymakers on the key factors influencing food choices across different income groups. \n",
    "\n",
    "Your tasks are to analyze:\n",
    "\n",
    "1. **Income & Food Affordability** – How does household income relate to the affordability of different food categories?\n",
    "   - Use the **Income-Expenditure Dataset** to analyze household income and overall expenses.\n",
    "   - The **Food Prices Dataset** reveals how food costs vary by region, helping assess affordability.\n",
    "2. **Healthy vs. Unhealthy Purchases** – Do higher-income households buy healthier foods?  \n",
    "   - The **Dietary Habits Survey** captures individual consumption patterns.\n",
    "   - The **Food Prices Dataset** helps assess whether healthier foods are more expensive.  \n",
    "3. **Regional Patterns** – Are there geographic trends in food affordability?  \n",
    "   - The **Food Prices Dataset** includes location-based pricing data.\n",
    "4. **Data Visualization** – Create at least one chart to highlight key insights. \n",
    "5. **[Optional] Nutritional Value vs. Cost** – Are healthier foods more expensive than processed options?  \n",
    "   - Use the **Food Prices Dataset** and its **dimension table** to categorize food types and analyze price differences between healthy and unhealthy options. \n",
    "\n",
    "At the end of your analysis, summarize your findings—what trends stand out, and what factors should policymakers target for intervention?"
   ]
  },
  {
   "cell_type": "markdown",
   "id": "a7fe367e-ee38-4f02-bcaa-a9c8e4ebf5d0",
   "metadata": {},
   "source": [
    "## 🧑‍⚖️ Judging criteria: Your Vote, Your Winners!\n",
    "\n",
    "This is a community-driven competition, your votes decide the winners! Once the competition ends, you'll get to explore submissions, celebrate the best insights, and vote for your favorites. The top 5 most upvoted entries will win exclusive DataCamp merchandise - so bring your A-game, impress your peers, and claim your spot at the top! \n",
    "\n"
   ]
  },
  {
   "cell_type": "markdown",
   "id": "fd227115",
   "metadata": {},
   "source": [
    "## ✅ Checklist before publishing\n",
    "- Rename your workspace to make it descriptive of your work. N.B. you should leave the notebook name as notebook.ipynb.\n",
    "- **Remove redundant cells** like the introduction to data science notebooks, so the workbook is focused on your story.\n",
    "- Check that all the cells run without error."
   ]
  },
  {
   "cell_type": "markdown",
   "id": "d21a86dd",
   "metadata": {},
   "source": [
    "## ⏳ The table is set—let’s serve up some data-driven insights! 🥗📊🚀"
   ]
  },
  {
   "cell_type": "code",
   "execution_count": 54,
   "id": "ce5e0349",
   "metadata": {},
   "outputs": [],
   "source": [
    "import pandas as pd \n",
    "import numpy as np \n",
    "import seaborn as sns\n",
    "import matplotlib.pyplot as plt "
   ]
  },
  {
   "cell_type": "code",
   "execution_count": 55,
   "id": "0a7302aa",
   "metadata": {},
   "outputs": [],
   "source": [
    "dietyhabbits=pd.read_csv('data\\Dietary Habits Survey Data.csv')"
   ]
  },
  {
   "cell_type": "code",
   "execution_count": 56,
   "id": "5ee1f698",
   "metadata": {},
   "outputs": [],
   "source": [
    "foodprices=pd.read_csv(\"data\\Food Prices.csv\")"
   ]
  },
  {
   "cell_type": "code",
   "execution_count": 57,
   "id": "57b097e1",
   "metadata": {},
   "outputs": [],
   "source": [
    "income=pd.read_csv(\"data\\Income-Expenditure.csv\")"
   ]
  },
  {
   "cell_type": "code",
   "execution_count": 58,
   "id": "787f7283",
   "metadata": {},
   "outputs": [
    {
     "data": {
      "text/html": [
       "<div>\n",
       "<style scoped>\n",
       "    .dataframe tbody tr th:only-of-type {\n",
       "        vertical-align: middle;\n",
       "    }\n",
       "\n",
       "    .dataframe tbody tr th {\n",
       "        vertical-align: top;\n",
       "    }\n",
       "\n",
       "    .dataframe thead th {\n",
       "        text-align: right;\n",
       "    }\n",
       "</style>\n",
       "<table border=\"1\" class=\"dataframe\">\n",
       "  <thead>\n",
       "    <tr style=\"text-align: right;\">\n",
       "      <th></th>\n",
       "      <th>Mthly_HH_Income</th>\n",
       "      <th>Mthly_HH_Expense</th>\n",
       "      <th>No_of_Fly_Members</th>\n",
       "      <th>Emi_or_Rent_Amt</th>\n",
       "      <th>Annual_HH_Income</th>\n",
       "      <th>Highest_Qualified_Member</th>\n",
       "      <th>No_of_Earning_Members</th>\n",
       "    </tr>\n",
       "  </thead>\n",
       "  <tbody>\n",
       "    <tr>\n",
       "      <th>0</th>\n",
       "      <td>5000</td>\n",
       "      <td>8000</td>\n",
       "      <td>3</td>\n",
       "      <td>2000</td>\n",
       "      <td>64200</td>\n",
       "      <td>Under-Graduate</td>\n",
       "      <td>1</td>\n",
       "    </tr>\n",
       "    <tr>\n",
       "      <th>1</th>\n",
       "      <td>6000</td>\n",
       "      <td>7000</td>\n",
       "      <td>2</td>\n",
       "      <td>3000</td>\n",
       "      <td>79920</td>\n",
       "      <td>Illiterate</td>\n",
       "      <td>1</td>\n",
       "    </tr>\n",
       "    <tr>\n",
       "      <th>2</th>\n",
       "      <td>10000</td>\n",
       "      <td>4500</td>\n",
       "      <td>2</td>\n",
       "      <td>0</td>\n",
       "      <td>112800</td>\n",
       "      <td>Under-Graduate</td>\n",
       "      <td>1</td>\n",
       "    </tr>\n",
       "    <tr>\n",
       "      <th>3</th>\n",
       "      <td>10000</td>\n",
       "      <td>2000</td>\n",
       "      <td>1</td>\n",
       "      <td>0</td>\n",
       "      <td>97200</td>\n",
       "      <td>Illiterate</td>\n",
       "      <td>1</td>\n",
       "    </tr>\n",
       "    <tr>\n",
       "      <th>4</th>\n",
       "      <td>12500</td>\n",
       "      <td>12000</td>\n",
       "      <td>2</td>\n",
       "      <td>3000</td>\n",
       "      <td>147000</td>\n",
       "      <td>Graduate</td>\n",
       "      <td>1</td>\n",
       "    </tr>\n",
       "  </tbody>\n",
       "</table>\n",
       "</div>"
      ],
      "text/plain": [
       "   Mthly_HH_Income  Mthly_HH_Expense  No_of_Fly_Members  Emi_or_Rent_Amt  \\\n",
       "0             5000              8000                  3             2000   \n",
       "1             6000              7000                  2             3000   \n",
       "2            10000              4500                  2                0   \n",
       "3            10000              2000                  1                0   \n",
       "4            12500             12000                  2             3000   \n",
       "\n",
       "   Annual_HH_Income Highest_Qualified_Member  No_of_Earning_Members  \n",
       "0             64200           Under-Graduate                      1  \n",
       "1             79920               Illiterate                      1  \n",
       "2            112800           Under-Graduate                      1  \n",
       "3             97200               Illiterate                      1  \n",
       "4            147000                 Graduate                      1  "
      ]
     },
     "execution_count": 58,
     "metadata": {},
     "output_type": "execute_result"
    }
   ],
   "source": [
    "income.head()"
   ]
  },
  {
   "cell_type": "code",
   "execution_count": 59,
   "id": "b09b836f",
   "metadata": {},
   "outputs": [
    {
     "name": "stdout",
     "output_type": "stream",
     "text": [
      "<class 'pandas.core.frame.DataFrame'>\n",
      "RangeIndex: 50 entries, 0 to 49\n",
      "Data columns (total 7 columns):\n",
      " #   Column                    Non-Null Count  Dtype \n",
      "---  ------                    --------------  ----- \n",
      " 0   Mthly_HH_Income           50 non-null     int64 \n",
      " 1   Mthly_HH_Expense          50 non-null     int64 \n",
      " 2   No_of_Fly_Members         50 non-null     int64 \n",
      " 3   Emi_or_Rent_Amt           50 non-null     int64 \n",
      " 4   Annual_HH_Income          50 non-null     int64 \n",
      " 5   Highest_Qualified_Member  50 non-null     object\n",
      " 6   No_of_Earning_Members     50 non-null     int64 \n",
      "dtypes: int64(6), object(1)\n",
      "memory usage: 2.9+ KB\n"
     ]
    }
   ],
   "source": [
    "income.info()"
   ]
  },
  {
   "cell_type": "code",
   "execution_count": 60,
   "id": "1b19794e",
   "metadata": {},
   "outputs": [
    {
     "data": {
      "text/html": [
       "<div>\n",
       "<style scoped>\n",
       "    .dataframe tbody tr th:only-of-type {\n",
       "        vertical-align: middle;\n",
       "    }\n",
       "\n",
       "    .dataframe tbody tr th {\n",
       "        vertical-align: top;\n",
       "    }\n",
       "\n",
       "    .dataframe thead th {\n",
       "        text-align: right;\n",
       "    }\n",
       "</style>\n",
       "<table border=\"1\" class=\"dataframe\">\n",
       "  <thead>\n",
       "    <tr style=\"text-align: right;\">\n",
       "      <th></th>\n",
       "      <th>Year</th>\n",
       "      <th>Month</th>\n",
       "      <th>EFPG_code</th>\n",
       "      <th>Metroregion_code</th>\n",
       "      <th>Attribute</th>\n",
       "      <th>Value</th>\n",
       "    </tr>\n",
       "  </thead>\n",
       "  <tbody>\n",
       "    <tr>\n",
       "      <th>0</th>\n",
       "      <td>2012</td>\n",
       "      <td>1</td>\n",
       "      <td>10000</td>\n",
       "      <td>National</td>\n",
       "      <td>Total weighted monthly sales in U.S. dollars</td>\n",
       "      <td>2.493734e+08</td>\n",
       "    </tr>\n",
       "    <tr>\n",
       "      <th>1</th>\n",
       "      <td>2012</td>\n",
       "      <td>1</td>\n",
       "      <td>10000</td>\n",
       "      <td>National</td>\n",
       "      <td>Total weighted monthly quantities in grams</td>\n",
       "      <td>4.875195e+10</td>\n",
       "    </tr>\n",
       "    <tr>\n",
       "      <th>2</th>\n",
       "      <td>2012</td>\n",
       "      <td>1</td>\n",
       "      <td>10000</td>\n",
       "      <td>National</td>\n",
       "      <td>Total unweighted monthly sales in U.S. dollars</td>\n",
       "      <td>1.629852e+08</td>\n",
       "    </tr>\n",
       "    <tr>\n",
       "      <th>3</th>\n",
       "      <td>2012</td>\n",
       "      <td>1</td>\n",
       "      <td>10000</td>\n",
       "      <td>National</td>\n",
       "      <td>Total unweighted monthly quantities in grams</td>\n",
       "      <td>3.217558e+10</td>\n",
       "    </tr>\n",
       "    <tr>\n",
       "      <th>4</th>\n",
       "      <td>2012</td>\n",
       "      <td>1</td>\n",
       "      <td>10000</td>\n",
       "      <td>National</td>\n",
       "      <td>Number of stores in geographic area</td>\n",
       "      <td>4.178100e+04</td>\n",
       "    </tr>\n",
       "  </tbody>\n",
       "</table>\n",
       "</div>"
      ],
      "text/plain": [
       "   Year  Month  EFPG_code Metroregion_code  \\\n",
       "0  2012      1      10000         National   \n",
       "1  2012      1      10000         National   \n",
       "2  2012      1      10000         National   \n",
       "3  2012      1      10000         National   \n",
       "4  2012      1      10000         National   \n",
       "\n",
       "                                        Attribute         Value  \n",
       "0    Total weighted monthly sales in U.S. dollars  2.493734e+08  \n",
       "1      Total weighted monthly quantities in grams  4.875195e+10  \n",
       "2  Total unweighted monthly sales in U.S. dollars  1.629852e+08  \n",
       "3   Total unweighted monthly quantities in grams   3.217558e+10  \n",
       "4             Number of stores in geographic area  4.178100e+04  "
      ]
     },
     "execution_count": 60,
     "metadata": {},
     "output_type": "execute_result"
    }
   ],
   "source": [
    "foodprices.head()"
   ]
  },
  {
   "cell_type": "code",
   "execution_count": 61,
   "id": "8fc6fc52",
   "metadata": {},
   "outputs": [
    {
     "name": "stdout",
     "output_type": "stream",
     "text": [
      "<class 'pandas.core.frame.DataFrame'>\n",
      "RangeIndex: 1020600 entries, 0 to 1020599\n",
      "Data columns (total 6 columns):\n",
      " #   Column            Non-Null Count    Dtype  \n",
      "---  ------            --------------    -----  \n",
      " 0   Year              1020600 non-null  int64  \n",
      " 1   Month             1020600 non-null  int64  \n",
      " 2   EFPG_code         1020600 non-null  int64  \n",
      " 3   Metroregion_code  1020600 non-null  object \n",
      " 4   Attribute         1020600 non-null  object \n",
      " 5   Value             1020600 non-null  float64\n",
      "dtypes: float64(1), int64(3), object(2)\n",
      "memory usage: 46.7+ MB\n"
     ]
    }
   ],
   "source": [
    "foodprices.info()"
   ]
  },
  {
   "cell_type": "code",
   "execution_count": 62,
   "id": "cc136adb",
   "metadata": {},
   "outputs": [
    {
     "data": {
      "text/html": [
       "<div>\n",
       "<style scoped>\n",
       "    .dataframe tbody tr th:only-of-type {\n",
       "        vertical-align: middle;\n",
       "    }\n",
       "\n",
       "    .dataframe tbody tr th {\n",
       "        vertical-align: top;\n",
       "    }\n",
       "\n",
       "    .dataframe thead th {\n",
       "        text-align: right;\n",
       "    }\n",
       "</style>\n",
       "<table border=\"1\" class=\"dataframe\">\n",
       "  <thead>\n",
       "    <tr style=\"text-align: right;\">\n",
       "      <th></th>\n",
       "      <th>Age</th>\n",
       "      <th>Gender</th>\n",
       "      <th>How many meals do you have a day? (number of regular occasions in a day when a significant and reasonably filling amount of food is eaten)</th>\n",
       "      <th>What would best describe your diet:</th>\n",
       "      <th>Choose all that apply: [I skip meals]</th>\n",
       "      <th>Choose all that apply: [I experience feelings of hunger during the day]</th>\n",
       "      <th>Choose all that apply: [I consult a nutritionist/dietician]</th>\n",
       "      <th>Choose all that apply: [I cook my own meals]</th>\n",
       "      <th>What would you consider to be the main meal of YOUR day?</th>\n",
       "      <th>What does your diet mostly consist of and how is it prepared?</th>\n",
       "      <th>...</th>\n",
       "      <th>What is your weekly food intake frequency of the following food categories: [Meat]</th>\n",
       "      <th>What is your weekly food intake frequency of the following food categories: [Seafood ]</th>\n",
       "      <th>How frequently do you consume these beverages [Tea]</th>\n",
       "      <th>How frequently do you consume these beverages [Coffee]</th>\n",
       "      <th>How frequently do you consume these beverages [Aerated (Soft) Drinks]</th>\n",
       "      <th>How frequently do you consume these beverages [Fruit Juices (Fresh/Packaged)]</th>\n",
       "      <th>How frequently do you consume these beverages [Dairy Beverages (Milk, Milkshakes, Smoothies, Buttermilk, etc)]</th>\n",
       "      <th>How frequently do you consume these beverages [Alcoholic Beverages]</th>\n",
       "      <th>What is your water consumption like (in a day, 1 cup=250ml approx)</th>\n",
       "      <th></th>\n",
       "    </tr>\n",
       "  </thead>\n",
       "  <tbody>\n",
       "    <tr>\n",
       "      <th>0</th>\n",
       "      <td>18-24</td>\n",
       "      <td>Male</td>\n",
       "      <td>5</td>\n",
       "      <td>Pollotarian (Vegetarian who consumes poultry a...</td>\n",
       "      <td>Rarely</td>\n",
       "      <td>Often</td>\n",
       "      <td>Never</td>\n",
       "      <td>Sometimes</td>\n",
       "      <td>Lunch</td>\n",
       "      <td>Freshly home-cooked produce</td>\n",
       "      <td>...</td>\n",
       "      <td>Often</td>\n",
       "      <td>Often</td>\n",
       "      <td>Never</td>\n",
       "      <td>Never</td>\n",
       "      <td>Less often</td>\n",
       "      <td>Never</td>\n",
       "      <td>Less often</td>\n",
       "      <td>Never</td>\n",
       "      <td>More than 15 cups</td>\n",
       "      <td>NaN</td>\n",
       "    </tr>\n",
       "    <tr>\n",
       "      <th>1</th>\n",
       "      <td>18-24</td>\n",
       "      <td>Male</td>\n",
       "      <td>4</td>\n",
       "      <td>Vegetarian (No egg or meat)</td>\n",
       "      <td>Rarely</td>\n",
       "      <td>Often</td>\n",
       "      <td>Rarely</td>\n",
       "      <td>Rarely</td>\n",
       "      <td>Lunch</td>\n",
       "      <td>Freshly home-cooked produce</td>\n",
       "      <td>...</td>\n",
       "      <td>Never</td>\n",
       "      <td>Never</td>\n",
       "      <td>Less often</td>\n",
       "      <td>Never</td>\n",
       "      <td>Often</td>\n",
       "      <td>Once a day</td>\n",
       "      <td>Often</td>\n",
       "      <td>Never</td>\n",
       "      <td>11-14 cups</td>\n",
       "      <td>NaN</td>\n",
       "    </tr>\n",
       "  </tbody>\n",
       "</table>\n",
       "<p>2 rows × 27 columns</p>\n",
       "</div>"
      ],
      "text/plain": [
       "     Age Gender  \\\n",
       "0  18-24   Male   \n",
       "1  18-24   Male   \n",
       "\n",
       "   How many meals do you have a day? (number of regular occasions in a day when a significant and reasonably filling amount of food is eaten)  \\\n",
       "0                                                  5                                                                                            \n",
       "1                                                  4                                                                                            \n",
       "\n",
       "                 What would best describe your diet:  \\\n",
       "0  Pollotarian (Vegetarian who consumes poultry a...   \n",
       "1                        Vegetarian (No egg or meat)   \n",
       "\n",
       "  Choose all that apply: [I skip meals]  \\\n",
       "0                                Rarely   \n",
       "1                                Rarely   \n",
       "\n",
       "  Choose all that apply: [I experience feelings of hunger during the day]  \\\n",
       "0                                              Often                        \n",
       "1                                              Often                        \n",
       "\n",
       "  Choose all that apply: [I consult a nutritionist/dietician]  \\\n",
       "0                                              Never            \n",
       "1                                             Rarely            \n",
       "\n",
       "  Choose all that apply: [I cook my own meals]  \\\n",
       "0                                    Sometimes   \n",
       "1                                       Rarely   \n",
       "\n",
       "  What would you consider to be the main meal of YOUR day?  \\\n",
       "0                                              Lunch         \n",
       "1                                              Lunch         \n",
       "\n",
       "  What does your diet mostly consist of and how is it prepared?  ...  \\\n",
       "0                        Freshly home-cooked produce             ...   \n",
       "1                        Freshly home-cooked produce             ...   \n",
       "\n",
       "   What is your weekly food intake frequency of the following food categories: [Meat]  \\\n",
       "0                                              Often                                    \n",
       "1                                              Never                                    \n",
       "\n",
       "  What is your weekly food intake frequency of the following food categories: [Seafood ]  \\\n",
       "0                                              Often                                       \n",
       "1                                              Never                                       \n",
       "\n",
       "  How frequently do you consume these beverages [Tea]  \\\n",
       "0                                              Never    \n",
       "1                                         Less often    \n",
       "\n",
       "  How frequently do you consume these beverages [Coffee]  \\\n",
       "0                                              Never       \n",
       "1                                              Never       \n",
       "\n",
       "  How frequently do you consume these beverages [Aerated (Soft) Drinks]  \\\n",
       "0                                         Less often                      \n",
       "1                                              Often                      \n",
       "\n",
       "  How frequently do you consume these beverages [Fruit Juices (Fresh/Packaged)]  \\\n",
       "0                                              Never                              \n",
       "1                                         Once a day                              \n",
       "\n",
       "  How frequently do you consume these beverages [Dairy Beverages (Milk, Milkshakes, Smoothies, Buttermilk, etc)]  \\\n",
       "0                                         Less often                                                               \n",
       "1                                              Often                                                               \n",
       "\n",
       "  How frequently do you consume these beverages [Alcoholic Beverages]  \\\n",
       "0                                              Never                    \n",
       "1                                              Never                    \n",
       "\n",
       "  What is your water consumption like (in a day, 1 cup=250ml approx)      \n",
       "0                                  More than 15 cups                 NaN  \n",
       "1                                         11-14 cups                 NaN  \n",
       "\n",
       "[2 rows x 27 columns]"
      ]
     },
     "execution_count": 62,
     "metadata": {},
     "output_type": "execute_result"
    }
   ],
   "source": [
    "dietyhabbits.head(2)"
   ]
  },
  {
   "cell_type": "code",
   "execution_count": 63,
   "id": "21946ca6",
   "metadata": {},
   "outputs": [
    {
     "data": {
      "text/plain": [
       "Index(['Age', 'Gender',\n",
       "       'How many meals do you have a day? (number of regular occasions in a day when a significant and reasonably filling amount of food is eaten)',\n",
       "       'What would best describe your diet:',\n",
       "       'Choose all that apply: [I skip meals]',\n",
       "       'Choose all that apply: [I experience feelings of hunger during the day]',\n",
       "       'Choose all that apply: [I consult a nutritionist/dietician]',\n",
       "       'Choose all that apply: [I cook my own meals]',\n",
       "       'What would you consider to be the main meal of YOUR day?',\n",
       "       'What does your diet mostly consist of and how is it prepared?',\n",
       "       'How many times a week do you order-in or go out to eat?',\n",
       "       'Are you allergic to any of the following? (Tick all that apply)',\n",
       "       'What is your weekly food intake frequency of the following food categories: [Sweet foods]',\n",
       "       'What is your weekly food intake frequency of the following food categories: [Salty foods]',\n",
       "       'What is your weekly food intake frequency of the following food categories: [Fresh fruit]',\n",
       "       'What is your weekly food intake frequency of the following food categories: [Fresh vegetables]',\n",
       "       'What is your weekly food intake frequency of the following food categories: [Oily, fried foods]',\n",
       "       'What is your weekly food intake frequency of the following food categories: [Meat]',\n",
       "       'What is your weekly food intake frequency of the following food categories: [Seafood ]',\n",
       "       'How frequently do you consume these beverages [Tea]',\n",
       "       'How frequently do you consume these beverages [Coffee]',\n",
       "       'How frequently do you consume these beverages [Aerated (Soft) Drinks]',\n",
       "       'How frequently do you consume these beverages [Fruit Juices (Fresh/Packaged)]',\n",
       "       'How frequently do you consume these beverages [Dairy Beverages (Milk, Milkshakes, Smoothies, Buttermilk, etc)]',\n",
       "       'How frequently do you consume these beverages [Alcoholic Beverages]',\n",
       "       'What is your water consumption like (in a day, 1 cup=250ml approx)',\n",
       "       ' '],\n",
       "      dtype='object')"
      ]
     },
     "execution_count": 63,
     "metadata": {},
     "output_type": "execute_result"
    }
   ],
   "source": [
    "dietyhabbits.columns"
   ]
  },
  {
   "cell_type": "markdown",
   "id": "7c9aad9e",
   "metadata": {},
   "source": [
    "# obviously there is problems with data\n",
    " ### . lets rename columns"
   ]
  },
  {
   "cell_type": "code",
   "execution_count": 64,
   "id": "ff2ca812",
   "metadata": {},
   "outputs": [],
   "source": [
    "dietyhabbits.columns=['Age','Gender','meals_per_day','diet_desc','no_skip_meal','hunger_per_day','consult_nutritionist','cooking_myself','main_meal','diet_components','eating_frec','allergy','Sweet_foods','salty_food','Fresh_fruit','fresh_vege','junk_food','meat','seafood','tea','coffee','soft_drinks','fruit_juice','dairy_products','alcohol','water','']"
   ]
  },
  {
   "cell_type": "code",
   "execution_count": 65,
   "id": "92b3b8c7",
   "metadata": {},
   "outputs": [
    {
     "name": "stdout",
     "output_type": "stream",
     "text": [
      "<class 'pandas.core.frame.DataFrame'>\n",
      "RangeIndex: 78 entries, 0 to 77\n",
      "Data columns (total 27 columns):\n",
      " #   Column                Non-Null Count  Dtype  \n",
      "---  ------                --------------  -----  \n",
      " 0   Age                   78 non-null     object \n",
      " 1   Gender                78 non-null     object \n",
      " 2   meals_per_day         78 non-null     int64  \n",
      " 3   diet_desc             78 non-null     object \n",
      " 4   no_skip_meal          78 non-null     object \n",
      " 5   hunger_per_day        78 non-null     object \n",
      " 6   consult_nutritionist  78 non-null     object \n",
      " 7   cooking_myself        78 non-null     object \n",
      " 8   main_meal             78 non-null     object \n",
      " 9   diet_components       78 non-null     object \n",
      " 10  eating_frec           78 non-null     int64  \n",
      " 11  allergy               78 non-null     object \n",
      " 12  Sweet_foods           78 non-null     object \n",
      " 13  salty_food            78 non-null     object \n",
      " 14  Fresh_fruit           78 non-null     object \n",
      " 15  fresh_vege            78 non-null     object \n",
      " 16  junk_food             78 non-null     object \n",
      " 17  meat                  78 non-null     object \n",
      " 18  seafood               78 non-null     object \n",
      " 19  tea                   78 non-null     object \n",
      " 20  coffee                78 non-null     object \n",
      " 21  soft_drinks           78 non-null     object \n",
      " 22  fruit_juice           78 non-null     object \n",
      " 23  dairy_products        78 non-null     object \n",
      " 24  alcohol               78 non-null     object \n",
      " 25  water                 78 non-null     object \n",
      " 26                        0 non-null      float64\n",
      "dtypes: float64(1), int64(2), object(24)\n",
      "memory usage: 16.6+ KB\n"
     ]
    }
   ],
   "source": [
    "dietyhabbits.info()"
   ]
  },
  {
   "cell_type": "markdown",
   "id": "fd24cda4",
   "metadata": {},
   "source": [
    "## lets reduce number of columns"
   ]
  },
  {
   "cell_type": "code",
   "execution_count": 66,
   "id": "15469197",
   "metadata": {},
   "outputs": [],
   "source": [
    "dietyhabbits=dietyhabbits.drop(columns=['','diet_desc','tea','coffee','diet_components'])"
   ]
  },
  {
   "cell_type": "code",
   "execution_count": 67,
   "id": "ca8156ae",
   "metadata": {},
   "outputs": [
    {
     "data": {
      "text/html": [
       "<div>\n",
       "<style scoped>\n",
       "    .dataframe tbody tr th:only-of-type {\n",
       "        vertical-align: middle;\n",
       "    }\n",
       "\n",
       "    .dataframe tbody tr th {\n",
       "        vertical-align: top;\n",
       "    }\n",
       "\n",
       "    .dataframe thead th {\n",
       "        text-align: right;\n",
       "    }\n",
       "</style>\n",
       "<table border=\"1\" class=\"dataframe\">\n",
       "  <thead>\n",
       "    <tr style=\"text-align: right;\">\n",
       "      <th></th>\n",
       "      <th>Age</th>\n",
       "      <th>Gender</th>\n",
       "      <th>meals_per_day</th>\n",
       "      <th>no_skip_meal</th>\n",
       "      <th>hunger_per_day</th>\n",
       "      <th>consult_nutritionist</th>\n",
       "      <th>cooking_myself</th>\n",
       "      <th>main_meal</th>\n",
       "      <th>eating_frec</th>\n",
       "      <th>allergy</th>\n",
       "      <th>...</th>\n",
       "      <th>Fresh_fruit</th>\n",
       "      <th>fresh_vege</th>\n",
       "      <th>junk_food</th>\n",
       "      <th>meat</th>\n",
       "      <th>seafood</th>\n",
       "      <th>soft_drinks</th>\n",
       "      <th>fruit_juice</th>\n",
       "      <th>dairy_products</th>\n",
       "      <th>alcohol</th>\n",
       "      <th>water</th>\n",
       "    </tr>\n",
       "  </thead>\n",
       "  <tbody>\n",
       "    <tr>\n",
       "      <th>0</th>\n",
       "      <td>18-24</td>\n",
       "      <td>Male</td>\n",
       "      <td>5</td>\n",
       "      <td>Rarely</td>\n",
       "      <td>Often</td>\n",
       "      <td>Never</td>\n",
       "      <td>Sometimes</td>\n",
       "      <td>Lunch</td>\n",
       "      <td>4</td>\n",
       "      <td>Milk</td>\n",
       "      <td>...</td>\n",
       "      <td>Less often</td>\n",
       "      <td>Once a day</td>\n",
       "      <td>Less often</td>\n",
       "      <td>Often</td>\n",
       "      <td>Often</td>\n",
       "      <td>Less often</td>\n",
       "      <td>Never</td>\n",
       "      <td>Less often</td>\n",
       "      <td>Never</td>\n",
       "      <td>More than 15 cups</td>\n",
       "    </tr>\n",
       "    <tr>\n",
       "      <th>1</th>\n",
       "      <td>18-24</td>\n",
       "      <td>Male</td>\n",
       "      <td>4</td>\n",
       "      <td>Rarely</td>\n",
       "      <td>Often</td>\n",
       "      <td>Rarely</td>\n",
       "      <td>Rarely</td>\n",
       "      <td>Lunch</td>\n",
       "      <td>1</td>\n",
       "      <td>I do not have any allergies</td>\n",
       "      <td>...</td>\n",
       "      <td>Less often</td>\n",
       "      <td>Often</td>\n",
       "      <td>Often</td>\n",
       "      <td>Never</td>\n",
       "      <td>Never</td>\n",
       "      <td>Often</td>\n",
       "      <td>Once a day</td>\n",
       "      <td>Often</td>\n",
       "      <td>Never</td>\n",
       "      <td>11-14 cups</td>\n",
       "    </tr>\n",
       "  </tbody>\n",
       "</table>\n",
       "<p>2 rows × 22 columns</p>\n",
       "</div>"
      ],
      "text/plain": [
       "     Age Gender  meals_per_day no_skip_meal hunger_per_day  \\\n",
       "0  18-24   Male              5       Rarely          Often   \n",
       "1  18-24   Male              4       Rarely          Often   \n",
       "\n",
       "  consult_nutritionist cooking_myself main_meal  eating_frec  \\\n",
       "0                Never      Sometimes     Lunch            4   \n",
       "1               Rarely         Rarely     Lunch            1   \n",
       "\n",
       "                       allergy  ... Fresh_fruit  fresh_vege   junk_food  \\\n",
       "0                         Milk  ...  Less often  Once a day  Less often   \n",
       "1  I do not have any allergies  ...  Less often       Often       Often   \n",
       "\n",
       "    meat seafood soft_drinks fruit_juice dairy_products alcohol  \\\n",
       "0  Often   Often  Less often       Never     Less often   Never   \n",
       "1  Never   Never       Often  Once a day          Often   Never   \n",
       "\n",
       "               water  \n",
       "0  More than 15 cups  \n",
       "1         11-14 cups  \n",
       "\n",
       "[2 rows x 22 columns]"
      ]
     },
     "execution_count": 67,
     "metadata": {},
     "output_type": "execute_result"
    }
   ],
   "source": [
    "dietyhabbits.head(2)"
   ]
  },
  {
   "cell_type": "markdown",
   "id": "38a40513",
   "metadata": {},
   "source": []
  },
  {
   "cell_type": "code",
   "execution_count": 68,
   "id": "2dac84e5",
   "metadata": {},
   "outputs": [],
   "source": [
    "categories=['Sweet_foods','salty_food','Fresh_fruit','fresh_vege','junk_food','meat','seafood','soft_drinks','fruit_juice','dairy_products','alcohol','water']"
   ]
  },
  {
   "cell_type": "code",
   "execution_count": 69,
   "id": "1c693be6",
   "metadata": {},
   "outputs": [],
   "source": [
    "for cat in categories:\n",
    "    dietyhabbits[cat]=dietyhabbits[cat].astype('category')"
   ]
  },
  {
   "cell_type": "code",
   "execution_count": 70,
   "id": "d6d4085c",
   "metadata": {},
   "outputs": [
    {
     "data": {
      "text/plain": [
       "['Less often', 'Often', 'Once a day', 'Few times a week', 'Once a month', 'Several times a day', 'Never', 'In every meal']\n",
       "Categories (8, object): ['Few times a week', 'In every meal', 'Less often', 'Never', 'Often', 'Once a day', 'Once a month', 'Several times a day']"
      ]
     },
     "execution_count": 70,
     "metadata": {},
     "output_type": "execute_result"
    }
   ],
   "source": [
    "dietyhabbits['Sweet_foods'].unique()"
   ]
  },
  {
   "cell_type": "markdown",
   "id": "46944929",
   "metadata": {},
   "source": [
    "## here i will make label encoding to make columns be healthy food and unhealthy food"
   ]
  },
  {
   "cell_type": "code",
   "execution_count": 71,
   "id": "40d78f86",
   "metadata": {},
   "outputs": [],
   "source": [
    "codes={'Less often':3, 'Often':4, 'Once a day':5, 'Few times a week':2, 'Once a month':1, 'Several times a day':6, 'Never':0, 'In every meal':7}"
   ]
  },
  {
   "cell_type": "code",
   "execution_count": 72,
   "id": "e5633f98",
   "metadata": {},
   "outputs": [],
   "source": [
    "for i in categories[0:-1]:\n",
    "    dietyhabbits[i]=dietyhabbits[i].map(codes)"
   ]
  },
  {
   "cell_type": "code",
   "execution_count": 73,
   "id": "b1e7a443",
   "metadata": {},
   "outputs": [
    {
     "data": {
      "text/html": [
       "<div>\n",
       "<style scoped>\n",
       "    .dataframe tbody tr th:only-of-type {\n",
       "        vertical-align: middle;\n",
       "    }\n",
       "\n",
       "    .dataframe tbody tr th {\n",
       "        vertical-align: top;\n",
       "    }\n",
       "\n",
       "    .dataframe thead th {\n",
       "        text-align: right;\n",
       "    }\n",
       "</style>\n",
       "<table border=\"1\" class=\"dataframe\">\n",
       "  <thead>\n",
       "    <tr style=\"text-align: right;\">\n",
       "      <th></th>\n",
       "      <th>Age</th>\n",
       "      <th>Gender</th>\n",
       "      <th>meals_per_day</th>\n",
       "      <th>no_skip_meal</th>\n",
       "      <th>hunger_per_day</th>\n",
       "      <th>consult_nutritionist</th>\n",
       "      <th>cooking_myself</th>\n",
       "      <th>main_meal</th>\n",
       "      <th>eating_frec</th>\n",
       "      <th>allergy</th>\n",
       "      <th>...</th>\n",
       "      <th>Fresh_fruit</th>\n",
       "      <th>fresh_vege</th>\n",
       "      <th>junk_food</th>\n",
       "      <th>meat</th>\n",
       "      <th>seafood</th>\n",
       "      <th>soft_drinks</th>\n",
       "      <th>fruit_juice</th>\n",
       "      <th>dairy_products</th>\n",
       "      <th>alcohol</th>\n",
       "      <th>water</th>\n",
       "    </tr>\n",
       "  </thead>\n",
       "  <tbody>\n",
       "    <tr>\n",
       "      <th>0</th>\n",
       "      <td>18-24</td>\n",
       "      <td>Male</td>\n",
       "      <td>5</td>\n",
       "      <td>Rarely</td>\n",
       "      <td>Often</td>\n",
       "      <td>Never</td>\n",
       "      <td>Sometimes</td>\n",
       "      <td>Lunch</td>\n",
       "      <td>4</td>\n",
       "      <td>Milk</td>\n",
       "      <td>...</td>\n",
       "      <td>3</td>\n",
       "      <td>5</td>\n",
       "      <td>3</td>\n",
       "      <td>4</td>\n",
       "      <td>4</td>\n",
       "      <td>3</td>\n",
       "      <td>0</td>\n",
       "      <td>3.0</td>\n",
       "      <td>0</td>\n",
       "      <td>More than 15 cups</td>\n",
       "    </tr>\n",
       "    <tr>\n",
       "      <th>1</th>\n",
       "      <td>18-24</td>\n",
       "      <td>Male</td>\n",
       "      <td>4</td>\n",
       "      <td>Rarely</td>\n",
       "      <td>Often</td>\n",
       "      <td>Rarely</td>\n",
       "      <td>Rarely</td>\n",
       "      <td>Lunch</td>\n",
       "      <td>1</td>\n",
       "      <td>I do not have any allergies</td>\n",
       "      <td>...</td>\n",
       "      <td>3</td>\n",
       "      <td>4</td>\n",
       "      <td>4</td>\n",
       "      <td>0</td>\n",
       "      <td>0</td>\n",
       "      <td>4</td>\n",
       "      <td>5</td>\n",
       "      <td>4.0</td>\n",
       "      <td>0</td>\n",
       "      <td>11-14 cups</td>\n",
       "    </tr>\n",
       "    <tr>\n",
       "      <th>2</th>\n",
       "      <td>45-54</td>\n",
       "      <td>Male</td>\n",
       "      <td>3</td>\n",
       "      <td>Never</td>\n",
       "      <td>Rarely</td>\n",
       "      <td>Never</td>\n",
       "      <td>Never</td>\n",
       "      <td>All</td>\n",
       "      <td>3</td>\n",
       "      <td>I do not have any allergies</td>\n",
       "      <td>...</td>\n",
       "      <td>7</td>\n",
       "      <td>7</td>\n",
       "      <td>3</td>\n",
       "      <td>0</td>\n",
       "      <td>4</td>\n",
       "      <td>0</td>\n",
       "      <td>3</td>\n",
       "      <td>5.0</td>\n",
       "      <td>0</td>\n",
       "      <td>More than 15 cups</td>\n",
       "    </tr>\n",
       "    <tr>\n",
       "      <th>3</th>\n",
       "      <td>18-24</td>\n",
       "      <td>Male</td>\n",
       "      <td>2</td>\n",
       "      <td>Often</td>\n",
       "      <td>Often</td>\n",
       "      <td>Never</td>\n",
       "      <td>Sometimes</td>\n",
       "      <td>Lunch</td>\n",
       "      <td>1</td>\n",
       "      <td>I do not have any allergies</td>\n",
       "      <td>...</td>\n",
       "      <td>6</td>\n",
       "      <td>7</td>\n",
       "      <td>2</td>\n",
       "      <td>5</td>\n",
       "      <td>2</td>\n",
       "      <td>1</td>\n",
       "      <td>1</td>\n",
       "      <td>2.0</td>\n",
       "      <td>0</td>\n",
       "      <td>7-10 cups</td>\n",
       "    </tr>\n",
       "    <tr>\n",
       "      <th>4</th>\n",
       "      <td>18-24</td>\n",
       "      <td>Female</td>\n",
       "      <td>3</td>\n",
       "      <td>Sometimes</td>\n",
       "      <td>Sometimes</td>\n",
       "      <td>Never</td>\n",
       "      <td>Often</td>\n",
       "      <td>Breakfast</td>\n",
       "      <td>1</td>\n",
       "      <td>I do not have any allergies</td>\n",
       "      <td>...</td>\n",
       "      <td>5</td>\n",
       "      <td>7</td>\n",
       "      <td>2</td>\n",
       "      <td>0</td>\n",
       "      <td>0</td>\n",
       "      <td>1</td>\n",
       "      <td>1</td>\n",
       "      <td>5.0</td>\n",
       "      <td>1</td>\n",
       "      <td>4-6 cups</td>\n",
       "    </tr>\n",
       "    <tr>\n",
       "      <th>...</th>\n",
       "      <td>...</td>\n",
       "      <td>...</td>\n",
       "      <td>...</td>\n",
       "      <td>...</td>\n",
       "      <td>...</td>\n",
       "      <td>...</td>\n",
       "      <td>...</td>\n",
       "      <td>...</td>\n",
       "      <td>...</td>\n",
       "      <td>...</td>\n",
       "      <td>...</td>\n",
       "      <td>...</td>\n",
       "      <td>...</td>\n",
       "      <td>...</td>\n",
       "      <td>...</td>\n",
       "      <td>...</td>\n",
       "      <td>...</td>\n",
       "      <td>...</td>\n",
       "      <td>...</td>\n",
       "      <td>...</td>\n",
       "      <td>...</td>\n",
       "    </tr>\n",
       "    <tr>\n",
       "      <th>73</th>\n",
       "      <td>18-24</td>\n",
       "      <td>Male</td>\n",
       "      <td>3</td>\n",
       "      <td>Sometimes</td>\n",
       "      <td>Rarely</td>\n",
       "      <td>Never</td>\n",
       "      <td>Never</td>\n",
       "      <td>Lunch</td>\n",
       "      <td>2</td>\n",
       "      <td>I do not have any allergies</td>\n",
       "      <td>...</td>\n",
       "      <td>5</td>\n",
       "      <td>6</td>\n",
       "      <td>2</td>\n",
       "      <td>2</td>\n",
       "      <td>0</td>\n",
       "      <td>5</td>\n",
       "      <td>2</td>\n",
       "      <td>0.0</td>\n",
       "      <td>2</td>\n",
       "      <td>7-10 cups</td>\n",
       "    </tr>\n",
       "    <tr>\n",
       "      <th>74</th>\n",
       "      <td>18-24</td>\n",
       "      <td>Male</td>\n",
       "      <td>5</td>\n",
       "      <td>Never</td>\n",
       "      <td>Sometimes</td>\n",
       "      <td>Never</td>\n",
       "      <td>Never</td>\n",
       "      <td>Breakfast</td>\n",
       "      <td>3</td>\n",
       "      <td>I do not have any allergies</td>\n",
       "      <td>...</td>\n",
       "      <td>6</td>\n",
       "      <td>6</td>\n",
       "      <td>1</td>\n",
       "      <td>5</td>\n",
       "      <td>1</td>\n",
       "      <td>0</td>\n",
       "      <td>2</td>\n",
       "      <td>2.0</td>\n",
       "      <td>2</td>\n",
       "      <td>More than 15 cups</td>\n",
       "    </tr>\n",
       "    <tr>\n",
       "      <th>75</th>\n",
       "      <td>18-24</td>\n",
       "      <td>Female</td>\n",
       "      <td>3</td>\n",
       "      <td>Sometimes</td>\n",
       "      <td>Rarely</td>\n",
       "      <td>Never</td>\n",
       "      <td>Sometimes</td>\n",
       "      <td>Lunch</td>\n",
       "      <td>3</td>\n",
       "      <td>Corn</td>\n",
       "      <td>...</td>\n",
       "      <td>5</td>\n",
       "      <td>7</td>\n",
       "      <td>2</td>\n",
       "      <td>2</td>\n",
       "      <td>2</td>\n",
       "      <td>1</td>\n",
       "      <td>2</td>\n",
       "      <td>2.0</td>\n",
       "      <td>0</td>\n",
       "      <td>7-10 cups</td>\n",
       "    </tr>\n",
       "    <tr>\n",
       "      <th>76</th>\n",
       "      <td>18-24</td>\n",
       "      <td>Female</td>\n",
       "      <td>3</td>\n",
       "      <td>Very frequently</td>\n",
       "      <td>Sometimes</td>\n",
       "      <td>Never</td>\n",
       "      <td>Rarely</td>\n",
       "      <td>Dinner</td>\n",
       "      <td>3</td>\n",
       "      <td>I do not have any allergies</td>\n",
       "      <td>...</td>\n",
       "      <td>5</td>\n",
       "      <td>5</td>\n",
       "      <td>2</td>\n",
       "      <td>1</td>\n",
       "      <td>0</td>\n",
       "      <td>1</td>\n",
       "      <td>1</td>\n",
       "      <td>2.0</td>\n",
       "      <td>2</td>\n",
       "      <td>4-6 cups</td>\n",
       "    </tr>\n",
       "    <tr>\n",
       "      <th>77</th>\n",
       "      <td>18-24</td>\n",
       "      <td>Female</td>\n",
       "      <td>3</td>\n",
       "      <td>Sometimes</td>\n",
       "      <td>Rarely</td>\n",
       "      <td>Rarely</td>\n",
       "      <td>Often</td>\n",
       "      <td>Lunch</td>\n",
       "      <td>3</td>\n",
       "      <td>Shellfish, Eggplant</td>\n",
       "      <td>...</td>\n",
       "      <td>5</td>\n",
       "      <td>2</td>\n",
       "      <td>2</td>\n",
       "      <td>5</td>\n",
       "      <td>5</td>\n",
       "      <td>1</td>\n",
       "      <td>1</td>\n",
       "      <td>2.0</td>\n",
       "      <td>1</td>\n",
       "      <td>4-6 cups</td>\n",
       "    </tr>\n",
       "  </tbody>\n",
       "</table>\n",
       "<p>78 rows × 22 columns</p>\n",
       "</div>"
      ],
      "text/plain": [
       "      Age  Gender  meals_per_day     no_skip_meal hunger_per_day  \\\n",
       "0   18-24    Male              5           Rarely          Often   \n",
       "1   18-24    Male              4           Rarely          Often   \n",
       "2   45-54    Male              3            Never         Rarely   \n",
       "3   18-24    Male              2            Often          Often   \n",
       "4   18-24  Female              3        Sometimes      Sometimes   \n",
       "..    ...     ...            ...              ...            ...   \n",
       "73  18-24    Male              3        Sometimes         Rarely   \n",
       "74  18-24    Male              5            Never      Sometimes   \n",
       "75  18-24  Female              3        Sometimes         Rarely   \n",
       "76  18-24  Female              3  Very frequently      Sometimes   \n",
       "77  18-24  Female              3        Sometimes         Rarely   \n",
       "\n",
       "   consult_nutritionist cooking_myself  main_meal  eating_frec  \\\n",
       "0                 Never      Sometimes      Lunch            4   \n",
       "1                Rarely         Rarely      Lunch            1   \n",
       "2                 Never          Never        All            3   \n",
       "3                 Never      Sometimes      Lunch            1   \n",
       "4                 Never          Often  Breakfast            1   \n",
       "..                  ...            ...        ...          ...   \n",
       "73                Never          Never      Lunch            2   \n",
       "74                Never          Never  Breakfast            3   \n",
       "75                Never      Sometimes      Lunch            3   \n",
       "76                Never         Rarely     Dinner            3   \n",
       "77               Rarely          Often      Lunch            3   \n",
       "\n",
       "                        allergy  ... Fresh_fruit fresh_vege junk_food meat  \\\n",
       "0                          Milk  ...           3          5         3    4   \n",
       "1   I do not have any allergies  ...           3          4         4    0   \n",
       "2   I do not have any allergies  ...           7          7         3    0   \n",
       "3   I do not have any allergies  ...           6          7         2    5   \n",
       "4   I do not have any allergies  ...           5          7         2    0   \n",
       "..                          ...  ...         ...        ...       ...  ...   \n",
       "73  I do not have any allergies  ...           5          6         2    2   \n",
       "74  I do not have any allergies  ...           6          6         1    5   \n",
       "75                         Corn  ...           5          7         2    2   \n",
       "76  I do not have any allergies  ...           5          5         2    1   \n",
       "77          Shellfish, Eggplant  ...           5          2         2    5   \n",
       "\n",
       "   seafood soft_drinks fruit_juice dairy_products alcohol              water  \n",
       "0        4           3           0            3.0       0  More than 15 cups  \n",
       "1        0           4           5            4.0       0         11-14 cups  \n",
       "2        4           0           3            5.0       0  More than 15 cups  \n",
       "3        2           1           1            2.0       0          7-10 cups  \n",
       "4        0           1           1            5.0       1           4-6 cups  \n",
       "..     ...         ...         ...            ...     ...                ...  \n",
       "73       0           5           2            0.0       2          7-10 cups  \n",
       "74       1           0           2            2.0       2  More than 15 cups  \n",
       "75       2           1           2            2.0       0          7-10 cups  \n",
       "76       0           1           1            2.0       2           4-6 cups  \n",
       "77       5           1           1            2.0       1           4-6 cups  \n",
       "\n",
       "[78 rows x 22 columns]"
      ]
     },
     "execution_count": 73,
     "metadata": {},
     "output_type": "execute_result"
    }
   ],
   "source": [
    "dietyhabbits"
   ]
  },
  {
   "cell_type": "code",
   "execution_count": 74,
   "id": "82c45964",
   "metadata": {},
   "outputs": [
    {
     "name": "stdout",
     "output_type": "stream",
     "text": [
      "<class 'pandas.core.frame.DataFrame'>\n",
      "RangeIndex: 78 entries, 0 to 77\n",
      "Data columns (total 22 columns):\n",
      " #   Column                Non-Null Count  Dtype   \n",
      "---  ------                --------------  -----   \n",
      " 0   Age                   78 non-null     object  \n",
      " 1   Gender                78 non-null     object  \n",
      " 2   meals_per_day         78 non-null     int64   \n",
      " 3   no_skip_meal          78 non-null     object  \n",
      " 4   hunger_per_day        78 non-null     object  \n",
      " 5   consult_nutritionist  78 non-null     object  \n",
      " 6   cooking_myself        78 non-null     object  \n",
      " 7   main_meal             78 non-null     object  \n",
      " 8   eating_frec           78 non-null     int64   \n",
      " 9   allergy               78 non-null     object  \n",
      " 10  Sweet_foods           78 non-null     category\n",
      " 11  salty_food            78 non-null     category\n",
      " 12  Fresh_fruit           78 non-null     category\n",
      " 13  fresh_vege            78 non-null     category\n",
      " 14  junk_food             78 non-null     category\n",
      " 15  meat                  78 non-null     category\n",
      " 16  seafood               78 non-null     category\n",
      " 17  soft_drinks           78 non-null     category\n",
      " 18  fruit_juice           78 non-null     category\n",
      " 19  dairy_products        76 non-null     float64 \n",
      " 20  alcohol               78 non-null     category\n",
      " 21  water                 78 non-null     category\n",
      "dtypes: category(11), float64(1), int64(2), object(8)\n",
      "memory usage: 10.6+ KB\n"
     ]
    }
   ],
   "source": [
    "dietyhabbits.info()"
   ]
  },
  {
   "cell_type": "code",
   "execution_count": 75,
   "id": "807500f5",
   "metadata": {},
   "outputs": [
    {
     "data": {
      "text/plain": [
       "['More than 15 cups',\n",
       " '11-14 cups',\n",
       " '7-10 cups',\n",
       " '4-6 cups',\n",
       " 'Less than 3 cups']"
      ]
     },
     "execution_count": 75,
     "metadata": {},
     "output_type": "execute_result"
    }
   ],
   "source": [
    "list(dietyhabbits['water'].unique())"
   ]
  },
  {
   "cell_type": "code",
   "execution_count": 76,
   "id": "61448da7",
   "metadata": {},
   "outputs": [],
   "source": [
    "code_water={'More than 15 cups':5,'11-14 cups':3,'7-10 cups':2,'4-6 cups':1,'Less than 3 cups':0}"
   ]
  },
  {
   "cell_type": "code",
   "execution_count": 77,
   "id": "d393afbb",
   "metadata": {},
   "outputs": [],
   "source": [
    "dietyhabbits['water']=dietyhabbits['water'].map(code_water)"
   ]
  },
  {
   "cell_type": "code",
   "execution_count": 78,
   "id": "8ad8747b",
   "metadata": {},
   "outputs": [],
   "source": [
    "dietyhabbits.dropna(inplace=True)"
   ]
  },
  {
   "cell_type": "code",
   "execution_count": 79,
   "id": "03a4a990",
   "metadata": {},
   "outputs": [
    {
     "name": "stdout",
     "output_type": "stream",
     "text": [
      "<class 'pandas.core.frame.DataFrame'>\n",
      "Index: 76 entries, 0 to 77\n",
      "Data columns (total 22 columns):\n",
      " #   Column                Non-Null Count  Dtype   \n",
      "---  ------                --------------  -----   \n",
      " 0   Age                   76 non-null     object  \n",
      " 1   Gender                76 non-null     object  \n",
      " 2   meals_per_day         76 non-null     int64   \n",
      " 3   no_skip_meal          76 non-null     object  \n",
      " 4   hunger_per_day        76 non-null     object  \n",
      " 5   consult_nutritionist  76 non-null     object  \n",
      " 6   cooking_myself        76 non-null     object  \n",
      " 7   main_meal             76 non-null     object  \n",
      " 8   eating_frec           76 non-null     int64   \n",
      " 9   allergy               76 non-null     object  \n",
      " 10  Sweet_foods           76 non-null     category\n",
      " 11  salty_food            76 non-null     category\n",
      " 12  Fresh_fruit           76 non-null     category\n",
      " 13  fresh_vege            76 non-null     category\n",
      " 14  junk_food             76 non-null     category\n",
      " 15  meat                  76 non-null     category\n",
      " 16  seafood               76 non-null     category\n",
      " 17  soft_drinks           76 non-null     category\n",
      " 18  fruit_juice           76 non-null     category\n",
      " 19  dairy_products        76 non-null     float64 \n",
      " 20  alcohol               76 non-null     category\n",
      " 21  water                 76 non-null     category\n",
      "dtypes: category(11), float64(1), int64(2), object(8)\n",
      "memory usage: 10.9+ KB\n"
     ]
    }
   ],
   "source": [
    "dietyhabbits.info()"
   ]
  },
  {
   "cell_type": "code",
   "execution_count": 80,
   "id": "ddf17760",
   "metadata": {},
   "outputs": [],
   "source": [
    "for j in categories:\n",
    "    dietyhabbits[j]=dietyhabbits[j].astype('int')"
   ]
  },
  {
   "cell_type": "code",
   "execution_count": 81,
   "id": "c4406673",
   "metadata": {},
   "outputs": [],
   "source": [
    "dietyhabbits['healthy_food']=dietyhabbits['Fresh_fruit']+dietyhabbits['fresh_vege']+dietyhabbits['seafood']+dietyhabbits['meat']+dietyhabbits['fruit_juice']+dietyhabbits['dairy_products']+dietyhabbits['water']"
   ]
  },
  {
   "cell_type": "code",
   "execution_count": 82,
   "id": "cf704474",
   "metadata": {},
   "outputs": [],
   "source": [
    "dietyhabbits['unhealthy_food']=dietyhabbits['Sweet_foods']+dietyhabbits['junk_food']+dietyhabbits['alcohol']+dietyhabbits['soft_drinks']+dietyhabbits['salty_food']"
   ]
  },
  {
   "cell_type": "code",
   "execution_count": 83,
   "id": "6306c8ee",
   "metadata": {},
   "outputs": [],
   "source": [
    "dietyhabbits=dietyhabbits.drop(columns=categories)"
   ]
  },
  {
   "cell_type": "code",
   "execution_count": 84,
   "id": "23569d1e",
   "metadata": {},
   "outputs": [
    {
     "data": {
      "text/html": [
       "<div>\n",
       "<style scoped>\n",
       "    .dataframe tbody tr th:only-of-type {\n",
       "        vertical-align: middle;\n",
       "    }\n",
       "\n",
       "    .dataframe tbody tr th {\n",
       "        vertical-align: top;\n",
       "    }\n",
       "\n",
       "    .dataframe thead th {\n",
       "        text-align: right;\n",
       "    }\n",
       "</style>\n",
       "<table border=\"1\" class=\"dataframe\">\n",
       "  <thead>\n",
       "    <tr style=\"text-align: right;\">\n",
       "      <th></th>\n",
       "      <th>Age</th>\n",
       "      <th>Gender</th>\n",
       "      <th>meals_per_day</th>\n",
       "      <th>no_skip_meal</th>\n",
       "      <th>hunger_per_day</th>\n",
       "      <th>consult_nutritionist</th>\n",
       "      <th>cooking_myself</th>\n",
       "      <th>main_meal</th>\n",
       "      <th>eating_frec</th>\n",
       "      <th>allergy</th>\n",
       "      <th>healthy_food</th>\n",
       "      <th>unhealthy_food</th>\n",
       "    </tr>\n",
       "  </thead>\n",
       "  <tbody>\n",
       "    <tr>\n",
       "      <th>0</th>\n",
       "      <td>18-24</td>\n",
       "      <td>Male</td>\n",
       "      <td>5</td>\n",
       "      <td>Rarely</td>\n",
       "      <td>Often</td>\n",
       "      <td>Never</td>\n",
       "      <td>Sometimes</td>\n",
       "      <td>Lunch</td>\n",
       "      <td>4</td>\n",
       "      <td>Milk</td>\n",
       "      <td>24</td>\n",
       "      <td>14</td>\n",
       "    </tr>\n",
       "    <tr>\n",
       "      <th>1</th>\n",
       "      <td>18-24</td>\n",
       "      <td>Male</td>\n",
       "      <td>4</td>\n",
       "      <td>Rarely</td>\n",
       "      <td>Often</td>\n",
       "      <td>Rarely</td>\n",
       "      <td>Rarely</td>\n",
       "      <td>Lunch</td>\n",
       "      <td>1</td>\n",
       "      <td>I do not have any allergies</td>\n",
       "      <td>19</td>\n",
       "      <td>16</td>\n",
       "    </tr>\n",
       "    <tr>\n",
       "      <th>2</th>\n",
       "      <td>45-54</td>\n",
       "      <td>Male</td>\n",
       "      <td>3</td>\n",
       "      <td>Never</td>\n",
       "      <td>Rarely</td>\n",
       "      <td>Never</td>\n",
       "      <td>Never</td>\n",
       "      <td>All</td>\n",
       "      <td>3</td>\n",
       "      <td>I do not have any allergies</td>\n",
       "      <td>31</td>\n",
       "      <td>14</td>\n",
       "    </tr>\n",
       "    <tr>\n",
       "      <th>3</th>\n",
       "      <td>18-24</td>\n",
       "      <td>Male</td>\n",
       "      <td>2</td>\n",
       "      <td>Often</td>\n",
       "      <td>Often</td>\n",
       "      <td>Never</td>\n",
       "      <td>Sometimes</td>\n",
       "      <td>Lunch</td>\n",
       "      <td>1</td>\n",
       "      <td>I do not have any allergies</td>\n",
       "      <td>25</td>\n",
       "      <td>13</td>\n",
       "    </tr>\n",
       "    <tr>\n",
       "      <th>4</th>\n",
       "      <td>18-24</td>\n",
       "      <td>Female</td>\n",
       "      <td>3</td>\n",
       "      <td>Sometimes</td>\n",
       "      <td>Sometimes</td>\n",
       "      <td>Never</td>\n",
       "      <td>Often</td>\n",
       "      <td>Breakfast</td>\n",
       "      <td>1</td>\n",
       "      <td>I do not have any allergies</td>\n",
       "      <td>19</td>\n",
       "      <td>8</td>\n",
       "    </tr>\n",
       "    <tr>\n",
       "      <th>...</th>\n",
       "      <td>...</td>\n",
       "      <td>...</td>\n",
       "      <td>...</td>\n",
       "      <td>...</td>\n",
       "      <td>...</td>\n",
       "      <td>...</td>\n",
       "      <td>...</td>\n",
       "      <td>...</td>\n",
       "      <td>...</td>\n",
       "      <td>...</td>\n",
       "      <td>...</td>\n",
       "      <td>...</td>\n",
       "    </tr>\n",
       "    <tr>\n",
       "      <th>73</th>\n",
       "      <td>18-24</td>\n",
       "      <td>Male</td>\n",
       "      <td>3</td>\n",
       "      <td>Sometimes</td>\n",
       "      <td>Rarely</td>\n",
       "      <td>Never</td>\n",
       "      <td>Never</td>\n",
       "      <td>Lunch</td>\n",
       "      <td>2</td>\n",
       "      <td>I do not have any allergies</td>\n",
       "      <td>17</td>\n",
       "      <td>17</td>\n",
       "    </tr>\n",
       "    <tr>\n",
       "      <th>74</th>\n",
       "      <td>18-24</td>\n",
       "      <td>Male</td>\n",
       "      <td>5</td>\n",
       "      <td>Never</td>\n",
       "      <td>Sometimes</td>\n",
       "      <td>Never</td>\n",
       "      <td>Never</td>\n",
       "      <td>Breakfast</td>\n",
       "      <td>3</td>\n",
       "      <td>I do not have any allergies</td>\n",
       "      <td>27</td>\n",
       "      <td>5</td>\n",
       "    </tr>\n",
       "    <tr>\n",
       "      <th>75</th>\n",
       "      <td>18-24</td>\n",
       "      <td>Female</td>\n",
       "      <td>3</td>\n",
       "      <td>Sometimes</td>\n",
       "      <td>Rarely</td>\n",
       "      <td>Never</td>\n",
       "      <td>Sometimes</td>\n",
       "      <td>Lunch</td>\n",
       "      <td>3</td>\n",
       "      <td>Corn</td>\n",
       "      <td>22</td>\n",
       "      <td>7</td>\n",
       "    </tr>\n",
       "    <tr>\n",
       "      <th>76</th>\n",
       "      <td>18-24</td>\n",
       "      <td>Female</td>\n",
       "      <td>3</td>\n",
       "      <td>Very frequently</td>\n",
       "      <td>Sometimes</td>\n",
       "      <td>Never</td>\n",
       "      <td>Rarely</td>\n",
       "      <td>Dinner</td>\n",
       "      <td>3</td>\n",
       "      <td>I do not have any allergies</td>\n",
       "      <td>15</td>\n",
       "      <td>8</td>\n",
       "    </tr>\n",
       "    <tr>\n",
       "      <th>77</th>\n",
       "      <td>18-24</td>\n",
       "      <td>Female</td>\n",
       "      <td>3</td>\n",
       "      <td>Sometimes</td>\n",
       "      <td>Rarely</td>\n",
       "      <td>Rarely</td>\n",
       "      <td>Often</td>\n",
       "      <td>Lunch</td>\n",
       "      <td>3</td>\n",
       "      <td>Shellfish, Eggplant</td>\n",
       "      <td>21</td>\n",
       "      <td>15</td>\n",
       "    </tr>\n",
       "  </tbody>\n",
       "</table>\n",
       "<p>76 rows × 12 columns</p>\n",
       "</div>"
      ],
      "text/plain": [
       "      Age  Gender  meals_per_day     no_skip_meal hunger_per_day  \\\n",
       "0   18-24    Male              5           Rarely          Often   \n",
       "1   18-24    Male              4           Rarely          Often   \n",
       "2   45-54    Male              3            Never         Rarely   \n",
       "3   18-24    Male              2            Often          Often   \n",
       "4   18-24  Female              3        Sometimes      Sometimes   \n",
       "..    ...     ...            ...              ...            ...   \n",
       "73  18-24    Male              3        Sometimes         Rarely   \n",
       "74  18-24    Male              5            Never      Sometimes   \n",
       "75  18-24  Female              3        Sometimes         Rarely   \n",
       "76  18-24  Female              3  Very frequently      Sometimes   \n",
       "77  18-24  Female              3        Sometimes         Rarely   \n",
       "\n",
       "   consult_nutritionist cooking_myself  main_meal  eating_frec  \\\n",
       "0                 Never      Sometimes      Lunch            4   \n",
       "1                Rarely         Rarely      Lunch            1   \n",
       "2                 Never          Never        All            3   \n",
       "3                 Never      Sometimes      Lunch            1   \n",
       "4                 Never          Often  Breakfast            1   \n",
       "..                  ...            ...        ...          ...   \n",
       "73                Never          Never      Lunch            2   \n",
       "74                Never          Never  Breakfast            3   \n",
       "75                Never      Sometimes      Lunch            3   \n",
       "76                Never         Rarely     Dinner            3   \n",
       "77               Rarely          Often      Lunch            3   \n",
       "\n",
       "                        allergy  healthy_food  unhealthy_food  \n",
       "0                          Milk            24              14  \n",
       "1   I do not have any allergies            19              16  \n",
       "2   I do not have any allergies            31              14  \n",
       "3   I do not have any allergies            25              13  \n",
       "4   I do not have any allergies            19               8  \n",
       "..                          ...           ...             ...  \n",
       "73  I do not have any allergies            17              17  \n",
       "74  I do not have any allergies            27               5  \n",
       "75                         Corn            22               7  \n",
       "76  I do not have any allergies            15               8  \n",
       "77          Shellfish, Eggplant            21              15  \n",
       "\n",
       "[76 rows x 12 columns]"
      ]
     },
     "execution_count": 84,
     "metadata": {},
     "output_type": "execute_result"
    }
   ],
   "source": [
    "dietyhabbits"
   ]
  },
  {
   "cell_type": "markdown",
   "id": "08416c0e",
   "metadata": {},
   "source": [
    "## lets encode other columns"
   ]
  },
  {
   "cell_type": "code",
   "execution_count": 85,
   "id": "a172aab9",
   "metadata": {},
   "outputs": [
    {
     "data": {
      "text/plain": [
       "array(['Rarely', 'Never', 'Often', 'Sometimes', 'Very frequently'],\n",
       "      dtype=object)"
      ]
     },
     "execution_count": 85,
     "metadata": {},
     "output_type": "execute_result"
    }
   ],
   "source": [
    "dietyhabbits['no_skip_meal'].unique()"
   ]
  },
  {
   "cell_type": "code",
   "execution_count": 86,
   "id": "3030de54",
   "metadata": {},
   "outputs": [
    {
     "data": {
      "text/plain": [
       "array(['Often', 'Rarely', 'Sometimes', 'Never', 'Very frequently'],\n",
       "      dtype=object)"
      ]
     },
     "execution_count": 86,
     "metadata": {},
     "output_type": "execute_result"
    }
   ],
   "source": [
    "dietyhabbits['hunger_per_day'].unique()"
   ]
  },
  {
   "cell_type": "code",
   "execution_count": 87,
   "id": "6c46ad35",
   "metadata": {},
   "outputs": [
    {
     "data": {
      "text/plain": [
       "array(['Never', 'Rarely', 'Often', 'Sometimes'], dtype=object)"
      ]
     },
     "execution_count": 87,
     "metadata": {},
     "output_type": "execute_result"
    }
   ],
   "source": [
    "dietyhabbits['consult_nutritionist'].unique()"
   ]
  },
  {
   "cell_type": "code",
   "execution_count": 88,
   "id": "a4803aa5",
   "metadata": {},
   "outputs": [
    {
     "data": {
      "text/plain": [
       "array(['Sometimes', 'Rarely', 'Never', 'Often', 'Very frequently'],\n",
       "      dtype=object)"
      ]
     },
     "execution_count": 88,
     "metadata": {},
     "output_type": "execute_result"
    }
   ],
   "source": [
    "dietyhabbits['cooking_myself'].unique()"
   ]
  },
  {
   "cell_type": "code",
   "execution_count": 89,
   "id": "fea2c0d5",
   "metadata": {},
   "outputs": [],
   "source": [
    "codes_1={'Rarely':1, 'Never':0, 'Often':3, 'Sometimes':2, 'Very frequently':4}"
   ]
  },
  {
   "cell_type": "code",
   "execution_count": 90,
   "id": "6f81fa55",
   "metadata": {},
   "outputs": [],
   "source": [
    "atts=['no_skip_meal','hunger_per_day','consult_nutritionist']"
   ]
  },
  {
   "cell_type": "code",
   "execution_count": 91,
   "id": "d0981272",
   "metadata": {},
   "outputs": [],
   "source": [
    "for k in atts:\n",
    "    dietyhabbits[k]=dietyhabbits[k].map(codes_1)"
   ]
  },
  {
   "cell_type": "code",
   "execution_count": 92,
   "id": "ddf96092",
   "metadata": {},
   "outputs": [
    {
     "data": {
      "text/html": [
       "<div>\n",
       "<style scoped>\n",
       "    .dataframe tbody tr th:only-of-type {\n",
       "        vertical-align: middle;\n",
       "    }\n",
       "\n",
       "    .dataframe tbody tr th {\n",
       "        vertical-align: top;\n",
       "    }\n",
       "\n",
       "    .dataframe thead th {\n",
       "        text-align: right;\n",
       "    }\n",
       "</style>\n",
       "<table border=\"1\" class=\"dataframe\">\n",
       "  <thead>\n",
       "    <tr style=\"text-align: right;\">\n",
       "      <th></th>\n",
       "      <th>Age</th>\n",
       "      <th>Gender</th>\n",
       "      <th>meals_per_day</th>\n",
       "      <th>no_skip_meal</th>\n",
       "      <th>hunger_per_day</th>\n",
       "      <th>consult_nutritionist</th>\n",
       "      <th>cooking_myself</th>\n",
       "      <th>main_meal</th>\n",
       "      <th>eating_frec</th>\n",
       "      <th>allergy</th>\n",
       "      <th>healthy_food</th>\n",
       "      <th>unhealthy_food</th>\n",
       "    </tr>\n",
       "  </thead>\n",
       "  <tbody>\n",
       "    <tr>\n",
       "      <th>0</th>\n",
       "      <td>18-24</td>\n",
       "      <td>Male</td>\n",
       "      <td>5</td>\n",
       "      <td>1</td>\n",
       "      <td>3</td>\n",
       "      <td>0</td>\n",
       "      <td>Sometimes</td>\n",
       "      <td>Lunch</td>\n",
       "      <td>4</td>\n",
       "      <td>Milk</td>\n",
       "      <td>24</td>\n",
       "      <td>14</td>\n",
       "    </tr>\n",
       "    <tr>\n",
       "      <th>1</th>\n",
       "      <td>18-24</td>\n",
       "      <td>Male</td>\n",
       "      <td>4</td>\n",
       "      <td>1</td>\n",
       "      <td>3</td>\n",
       "      <td>1</td>\n",
       "      <td>Rarely</td>\n",
       "      <td>Lunch</td>\n",
       "      <td>1</td>\n",
       "      <td>I do not have any allergies</td>\n",
       "      <td>19</td>\n",
       "      <td>16</td>\n",
       "    </tr>\n",
       "    <tr>\n",
       "      <th>2</th>\n",
       "      <td>45-54</td>\n",
       "      <td>Male</td>\n",
       "      <td>3</td>\n",
       "      <td>0</td>\n",
       "      <td>1</td>\n",
       "      <td>0</td>\n",
       "      <td>Never</td>\n",
       "      <td>All</td>\n",
       "      <td>3</td>\n",
       "      <td>I do not have any allergies</td>\n",
       "      <td>31</td>\n",
       "      <td>14</td>\n",
       "    </tr>\n",
       "    <tr>\n",
       "      <th>3</th>\n",
       "      <td>18-24</td>\n",
       "      <td>Male</td>\n",
       "      <td>2</td>\n",
       "      <td>3</td>\n",
       "      <td>3</td>\n",
       "      <td>0</td>\n",
       "      <td>Sometimes</td>\n",
       "      <td>Lunch</td>\n",
       "      <td>1</td>\n",
       "      <td>I do not have any allergies</td>\n",
       "      <td>25</td>\n",
       "      <td>13</td>\n",
       "    </tr>\n",
       "    <tr>\n",
       "      <th>4</th>\n",
       "      <td>18-24</td>\n",
       "      <td>Female</td>\n",
       "      <td>3</td>\n",
       "      <td>2</td>\n",
       "      <td>2</td>\n",
       "      <td>0</td>\n",
       "      <td>Often</td>\n",
       "      <td>Breakfast</td>\n",
       "      <td>1</td>\n",
       "      <td>I do not have any allergies</td>\n",
       "      <td>19</td>\n",
       "      <td>8</td>\n",
       "    </tr>\n",
       "    <tr>\n",
       "      <th>...</th>\n",
       "      <td>...</td>\n",
       "      <td>...</td>\n",
       "      <td>...</td>\n",
       "      <td>...</td>\n",
       "      <td>...</td>\n",
       "      <td>...</td>\n",
       "      <td>...</td>\n",
       "      <td>...</td>\n",
       "      <td>...</td>\n",
       "      <td>...</td>\n",
       "      <td>...</td>\n",
       "      <td>...</td>\n",
       "    </tr>\n",
       "    <tr>\n",
       "      <th>73</th>\n",
       "      <td>18-24</td>\n",
       "      <td>Male</td>\n",
       "      <td>3</td>\n",
       "      <td>2</td>\n",
       "      <td>1</td>\n",
       "      <td>0</td>\n",
       "      <td>Never</td>\n",
       "      <td>Lunch</td>\n",
       "      <td>2</td>\n",
       "      <td>I do not have any allergies</td>\n",
       "      <td>17</td>\n",
       "      <td>17</td>\n",
       "    </tr>\n",
       "    <tr>\n",
       "      <th>74</th>\n",
       "      <td>18-24</td>\n",
       "      <td>Male</td>\n",
       "      <td>5</td>\n",
       "      <td>0</td>\n",
       "      <td>2</td>\n",
       "      <td>0</td>\n",
       "      <td>Never</td>\n",
       "      <td>Breakfast</td>\n",
       "      <td>3</td>\n",
       "      <td>I do not have any allergies</td>\n",
       "      <td>27</td>\n",
       "      <td>5</td>\n",
       "    </tr>\n",
       "    <tr>\n",
       "      <th>75</th>\n",
       "      <td>18-24</td>\n",
       "      <td>Female</td>\n",
       "      <td>3</td>\n",
       "      <td>2</td>\n",
       "      <td>1</td>\n",
       "      <td>0</td>\n",
       "      <td>Sometimes</td>\n",
       "      <td>Lunch</td>\n",
       "      <td>3</td>\n",
       "      <td>Corn</td>\n",
       "      <td>22</td>\n",
       "      <td>7</td>\n",
       "    </tr>\n",
       "    <tr>\n",
       "      <th>76</th>\n",
       "      <td>18-24</td>\n",
       "      <td>Female</td>\n",
       "      <td>3</td>\n",
       "      <td>4</td>\n",
       "      <td>2</td>\n",
       "      <td>0</td>\n",
       "      <td>Rarely</td>\n",
       "      <td>Dinner</td>\n",
       "      <td>3</td>\n",
       "      <td>I do not have any allergies</td>\n",
       "      <td>15</td>\n",
       "      <td>8</td>\n",
       "    </tr>\n",
       "    <tr>\n",
       "      <th>77</th>\n",
       "      <td>18-24</td>\n",
       "      <td>Female</td>\n",
       "      <td>3</td>\n",
       "      <td>2</td>\n",
       "      <td>1</td>\n",
       "      <td>1</td>\n",
       "      <td>Often</td>\n",
       "      <td>Lunch</td>\n",
       "      <td>3</td>\n",
       "      <td>Shellfish, Eggplant</td>\n",
       "      <td>21</td>\n",
       "      <td>15</td>\n",
       "    </tr>\n",
       "  </tbody>\n",
       "</table>\n",
       "<p>76 rows × 12 columns</p>\n",
       "</div>"
      ],
      "text/plain": [
       "      Age  Gender  meals_per_day  no_skip_meal  hunger_per_day  \\\n",
       "0   18-24    Male              5             1               3   \n",
       "1   18-24    Male              4             1               3   \n",
       "2   45-54    Male              3             0               1   \n",
       "3   18-24    Male              2             3               3   \n",
       "4   18-24  Female              3             2               2   \n",
       "..    ...     ...            ...           ...             ...   \n",
       "73  18-24    Male              3             2               1   \n",
       "74  18-24    Male              5             0               2   \n",
       "75  18-24  Female              3             2               1   \n",
       "76  18-24  Female              3             4               2   \n",
       "77  18-24  Female              3             2               1   \n",
       "\n",
       "    consult_nutritionist cooking_myself  main_meal  eating_frec  \\\n",
       "0                      0      Sometimes      Lunch            4   \n",
       "1                      1         Rarely      Lunch            1   \n",
       "2                      0          Never        All            3   \n",
       "3                      0      Sometimes      Lunch            1   \n",
       "4                      0          Often  Breakfast            1   \n",
       "..                   ...            ...        ...          ...   \n",
       "73                     0          Never      Lunch            2   \n",
       "74                     0          Never  Breakfast            3   \n",
       "75                     0      Sometimes      Lunch            3   \n",
       "76                     0         Rarely     Dinner            3   \n",
       "77                     1          Often      Lunch            3   \n",
       "\n",
       "                        allergy  healthy_food  unhealthy_food  \n",
       "0                          Milk            24              14  \n",
       "1   I do not have any allergies            19              16  \n",
       "2   I do not have any allergies            31              14  \n",
       "3   I do not have any allergies            25              13  \n",
       "4   I do not have any allergies            19               8  \n",
       "..                          ...           ...             ...  \n",
       "73  I do not have any allergies            17              17  \n",
       "74  I do not have any allergies            27               5  \n",
       "75                         Corn            22               7  \n",
       "76  I do not have any allergies            15               8  \n",
       "77          Shellfish, Eggplant            21              15  \n",
       "\n",
       "[76 rows x 12 columns]"
      ]
     },
     "execution_count": 92,
     "metadata": {},
     "output_type": "execute_result"
    }
   ],
   "source": [
    "dietyhabbits"
   ]
  },
  {
   "cell_type": "markdown",
   "id": "e9ab627b",
   "metadata": {},
   "source": [
    "# Does eating healthy depend on what’s in your wallet?\n",
    "- ##### How does household income relate to the affordability of different food categories?\n",
    "- ##### Use the **Income-Expenditure Dataset** to analyze household income and overall expenses.\n",
    "   - ##### The **Food Prices Dataset** reveals how food costs vary by region, helping assess affordability. \n"
   ]
  },
  {
   "cell_type": "code",
   "execution_count": 93,
   "id": "ca058903",
   "metadata": {},
   "outputs": [
    {
     "data": {
      "text/html": [
       "<div>\n",
       "<style scoped>\n",
       "    .dataframe tbody tr th:only-of-type {\n",
       "        vertical-align: middle;\n",
       "    }\n",
       "\n",
       "    .dataframe tbody tr th {\n",
       "        vertical-align: top;\n",
       "    }\n",
       "\n",
       "    .dataframe thead th {\n",
       "        text-align: right;\n",
       "    }\n",
       "</style>\n",
       "<table border=\"1\" class=\"dataframe\">\n",
       "  <thead>\n",
       "    <tr style=\"text-align: right;\">\n",
       "      <th></th>\n",
       "      <th>Mthly_HH_Income</th>\n",
       "      <th>Mthly_HH_Expense</th>\n",
       "      <th>No_of_Fly_Members</th>\n",
       "      <th>Emi_or_Rent_Amt</th>\n",
       "      <th>Annual_HH_Income</th>\n",
       "      <th>Highest_Qualified_Member</th>\n",
       "      <th>No_of_Earning_Members</th>\n",
       "    </tr>\n",
       "  </thead>\n",
       "  <tbody>\n",
       "    <tr>\n",
       "      <th>0</th>\n",
       "      <td>5000</td>\n",
       "      <td>8000</td>\n",
       "      <td>3</td>\n",
       "      <td>2000</td>\n",
       "      <td>64200</td>\n",
       "      <td>Under-Graduate</td>\n",
       "      <td>1</td>\n",
       "    </tr>\n",
       "    <tr>\n",
       "      <th>1</th>\n",
       "      <td>6000</td>\n",
       "      <td>7000</td>\n",
       "      <td>2</td>\n",
       "      <td>3000</td>\n",
       "      <td>79920</td>\n",
       "      <td>Illiterate</td>\n",
       "      <td>1</td>\n",
       "    </tr>\n",
       "  </tbody>\n",
       "</table>\n",
       "</div>"
      ],
      "text/plain": [
       "   Mthly_HH_Income  Mthly_HH_Expense  No_of_Fly_Members  Emi_or_Rent_Amt  \\\n",
       "0             5000              8000                  3             2000   \n",
       "1             6000              7000                  2             3000   \n",
       "\n",
       "   Annual_HH_Income Highest_Qualified_Member  No_of_Earning_Members  \n",
       "0             64200           Under-Graduate                      1  \n",
       "1             79920               Illiterate                      1  "
      ]
     },
     "execution_count": 93,
     "metadata": {},
     "output_type": "execute_result"
    }
   ],
   "source": [
    "income.head(2)"
   ]
  },
  {
   "cell_type": "code",
   "execution_count": null,
   "id": "9310a728",
   "metadata": {},
   "outputs": [],
   "source": []
  },
  {
   "cell_type": "markdown",
   "id": "2fc3aed2",
   "metadata": {},
   "source": []
  },
  {
   "cell_type": "markdown",
   "id": "d543621d",
   "metadata": {},
   "source": [
    "2. ##### **Healthy vs. Unhealthy Purchases** – Do higher-income households buy healthier foods?  \n",
    "   - ##### The **Dietary Habits Survey** captures individual consumption patterns.\n",
    "   - ##### The **Food Prices Dataset** helps assess whether healthier foods are more expensive."
   ]
  },
  {
   "cell_type": "code",
   "execution_count": 94,
   "id": "94b6722a",
   "metadata": {},
   "outputs": [
    {
     "data": {
      "text/html": [
       "<div>\n",
       "<style scoped>\n",
       "    .dataframe tbody tr th:only-of-type {\n",
       "        vertical-align: middle;\n",
       "    }\n",
       "\n",
       "    .dataframe tbody tr th {\n",
       "        vertical-align: top;\n",
       "    }\n",
       "\n",
       "    .dataframe thead th {\n",
       "        text-align: right;\n",
       "    }\n",
       "</style>\n",
       "<table border=\"1\" class=\"dataframe\">\n",
       "  <thead>\n",
       "    <tr style=\"text-align: right;\">\n",
       "      <th></th>\n",
       "      <th>Age</th>\n",
       "      <th>Gender</th>\n",
       "      <th>meals_per_day</th>\n",
       "      <th>no_skip_meal</th>\n",
       "      <th>hunger_per_day</th>\n",
       "      <th>consult_nutritionist</th>\n",
       "      <th>cooking_myself</th>\n",
       "      <th>main_meal</th>\n",
       "      <th>eating_frec</th>\n",
       "      <th>allergy</th>\n",
       "      <th>healthy_food</th>\n",
       "      <th>unhealthy_food</th>\n",
       "    </tr>\n",
       "  </thead>\n",
       "  <tbody>\n",
       "    <tr>\n",
       "      <th>0</th>\n",
       "      <td>18-24</td>\n",
       "      <td>Male</td>\n",
       "      <td>5</td>\n",
       "      <td>1</td>\n",
       "      <td>3</td>\n",
       "      <td>0</td>\n",
       "      <td>Sometimes</td>\n",
       "      <td>Lunch</td>\n",
       "      <td>4</td>\n",
       "      <td>Milk</td>\n",
       "      <td>24</td>\n",
       "      <td>14</td>\n",
       "    </tr>\n",
       "    <tr>\n",
       "      <th>1</th>\n",
       "      <td>18-24</td>\n",
       "      <td>Male</td>\n",
       "      <td>4</td>\n",
       "      <td>1</td>\n",
       "      <td>3</td>\n",
       "      <td>1</td>\n",
       "      <td>Rarely</td>\n",
       "      <td>Lunch</td>\n",
       "      <td>1</td>\n",
       "      <td>I do not have any allergies</td>\n",
       "      <td>19</td>\n",
       "      <td>16</td>\n",
       "    </tr>\n",
       "  </tbody>\n",
       "</table>\n",
       "</div>"
      ],
      "text/plain": [
       "     Age Gender  meals_per_day  no_skip_meal  hunger_per_day  \\\n",
       "0  18-24   Male              5             1               3   \n",
       "1  18-24   Male              4             1               3   \n",
       "\n",
       "   consult_nutritionist cooking_myself main_meal  eating_frec  \\\n",
       "0                     0      Sometimes     Lunch            4   \n",
       "1                     1         Rarely     Lunch            1   \n",
       "\n",
       "                       allergy  healthy_food  unhealthy_food  \n",
       "0                         Milk            24              14  \n",
       "1  I do not have any allergies            19              16  "
      ]
     },
     "execution_count": 94,
     "metadata": {},
     "output_type": "execute_result"
    }
   ],
   "source": [
    "dietyhabbits.head(2)"
   ]
  },
  {
   "cell_type": "markdown",
   "id": "1dc4cd5f",
   "metadata": {},
   "source": [
    "### is there a relationship between meals_per_day and no_skip_meal"
   ]
  },
  {
   "cell_type": "code",
   "execution_count": 95,
   "id": "c777eda2",
   "metadata": {},
   "outputs": [
    {
     "data": {
      "text/plain": [
       "{'coerr': np.float64(-0.3110603106788169),\n",
       " 'p_val': np.float64(0.006237570976017388)}"
      ]
     },
     "execution_count": 95,
     "metadata": {},
     "output_type": "execute_result"
    }
   ],
   "source": [
    "from scipy.stats import pearsonr\n",
    "r,p_val=pearsonr(dietyhabbits['meals_per_day'],dietyhabbits['no_skip_meal'])\n",
    "{'coerr':r,'p_val':p_val}"
   ]
  },
  {
   "cell_type": "markdown",
   "id": "59978e6d",
   "metadata": {},
   "source": [
    "there is a weak reverse coerr as p_val < 0.05"
   ]
  },
  {
   "cell_type": "code",
   "execution_count": 96,
   "id": "54d5ec8e",
   "metadata": {},
   "outputs": [
    {
     "data": {
      "text/plain": [
       "<seaborn.axisgrid.FacetGrid at 0x1c6ad7e3150>"
      ]
     },
     "execution_count": 96,
     "metadata": {},
     "output_type": "execute_result"
    },
    {
     "data": {
      "image/png": "[encoded data removed]",
      "text/plain": [
       "<Figure size 500x500 with 1 Axes>"
      ]
     },
     "metadata": {},
     "output_type": "display_data"
    }
   ],
   "source": [
    "sns.lmplot(x='meals_per_day',y='no_skip_meal',data=dietyhabbits)"
   ]
  },
  {
   "cell_type": "markdown",
   "id": "d88fc21b",
   "metadata": {},
   "source": [
    "### is there a relationship between meals_per_day and hunger per day"
   ]
  },
  {
   "cell_type": "code",
   "execution_count": 97,
   "id": "90525724",
   "metadata": {},
   "outputs": [
    {
     "data": {
      "text/plain": [
       "{'coerr': np.float64(0.19036884234804485),\n",
       " 'p_val': np.float64(0.09951830552584605)}"
      ]
     },
     "execution_count": 97,
     "metadata": {},
     "output_type": "execute_result"
    }
   ],
   "source": [
    "a,b=pearsonr(dietyhabbits['meals_per_day'],dietyhabbits['hunger_per_day'])\n",
    "{'coerr':a,'p_val':b}"
   ]
  },
  {
   "cell_type": "markdown",
   "id": "8d0be6eb",
   "metadata": {},
   "source": [
    "there is no enough evedence that there is a very weak coerr between meals per day and hunger per day"
   ]
  },
  {
   "cell_type": "markdown",
   "id": "93fa6fa0",
   "metadata": {},
   "source": [
    "### is there a relationship betweeen weekly healthy food consumption and weekly unhealthy food consumption"
   ]
  },
  {
   "cell_type": "code",
   "execution_count": 99,
   "id": "5080662f",
   "metadata": {},
   "outputs": [
    {
     "data": {
      "text/plain": [
       "<seaborn.axisgrid.FacetGrid at 0x1c6a9666b50>"
      ]
     },
     "execution_count": 99,
     "metadata": {},
     "output_type": "execute_result"
    },
    {
     "data": {
      "image/png": "[encoded data removed]",
      "text/plain": [
       "<Figure size 500x500 with 1 Axes>"
      ]
     },
     "metadata": {},
     "output_type": "display_data"
    }
   ],
   "source": [
    "sns.lmplot(data=dietyhabbits,x='healthy_food',y='unhealthy_food')"
   ]
  },
  {
   "cell_type": "code",
   "execution_count": 102,
   "id": "bfa5cf1c",
   "metadata": {},
   "outputs": [
    {
     "data": {
      "text/plain": [
       "{'coerr': np.float64(0.21879494955217305),\n",
       " 'p_val': np.float64(0.1808317277714067)}"
      ]
     },
     "execution_count": 102,
     "metadata": {},
     "output_type": "execute_result"
    }
   ],
   "source": [
    "r,p_val=pearsonr(dietyhabbits[dietyhabbits['Gender']=='Male']['healthy_food'],dietyhabbits[dietyhabbits['Gender']=='Male']['unhealthy_food'])\n",
    "{'coerr':r,'p_val':p_val}"
   ]
  },
  {
   "cell_type": "code",
   "execution_count": 103,
   "id": "41d88650",
   "metadata": {},
   "outputs": [
    {
     "data": {
      "text/plain": [
       "{'coerr': np.float64(0.1804241219889464),\n",
       " 'p_val': np.float64(0.2852458166659809)}"
      ]
     },
     "execution_count": 103,
     "metadata": {},
     "output_type": "execute_result"
    }
   ],
   "source": [
    "r,p_val=pearsonr(dietyhabbits[dietyhabbits['Gender']=='Female']['healthy_food'],dietyhabbits[dietyhabbits['Gender']=='Female']['unhealthy_food'])\n",
    "{'coerr':r,'p_val':p_val}"
   ]
  },
  {
   "cell_type": "markdown",
   "id": "20955a84",
   "metadata": {},
   "source": [
    "there is no evedence that there is a very weak coerr between healthy food and unhealthy food"
   ]
  },
  {
   "cell_type": "code",
   "execution_count": 98,
   "id": "6f6e251a",
   "metadata": {},
   "outputs": [
    {
     "data": {
      "text/html": [
       "<div>\n",
       "<style scoped>\n",
       "    .dataframe tbody tr th:only-of-type {\n",
       "        vertical-align: middle;\n",
       "    }\n",
       "\n",
       "    .dataframe tbody tr th {\n",
       "        vertical-align: top;\n",
       "    }\n",
       "\n",
       "    .dataframe thead th {\n",
       "        text-align: right;\n",
       "    }\n",
       "</style>\n",
       "<table border=\"1\" class=\"dataframe\">\n",
       "  <thead>\n",
       "    <tr style=\"text-align: right;\">\n",
       "      <th></th>\n",
       "      <th>Year</th>\n",
       "      <th>Month</th>\n",
       "      <th>EFPG_code</th>\n",
       "      <th>Metroregion_code</th>\n",
       "      <th>Attribute</th>\n",
       "      <th>Value</th>\n",
       "    </tr>\n",
       "  </thead>\n",
       "  <tbody>\n",
       "    <tr>\n",
       "      <th>0</th>\n",
       "      <td>2012</td>\n",
       "      <td>1</td>\n",
       "      <td>10000</td>\n",
       "      <td>National</td>\n",
       "      <td>Total weighted monthly sales in U.S. dollars</td>\n",
       "      <td>2.493734e+08</td>\n",
       "    </tr>\n",
       "    <tr>\n",
       "      <th>1</th>\n",
       "      <td>2012</td>\n",
       "      <td>1</td>\n",
       "      <td>10000</td>\n",
       "      <td>National</td>\n",
       "      <td>Total weighted monthly quantities in grams</td>\n",
       "      <td>4.875195e+10</td>\n",
       "    </tr>\n",
       "  </tbody>\n",
       "</table>\n",
       "</div>"
      ],
      "text/plain": [
       "   Year  Month  EFPG_code Metroregion_code  \\\n",
       "0  2012      1      10000         National   \n",
       "1  2012      1      10000         National   \n",
       "\n",
       "                                      Attribute         Value  \n",
       "0  Total weighted monthly sales in U.S. dollars  2.493734e+08  \n",
       "1    Total weighted monthly quantities in grams  4.875195e+10  "
      ]
     },
     "execution_count": 98,
     "metadata": {},
     "output_type": "execute_result"
    }
   ],
   "source": [
    "foodprices.head(2)"
   ]
  },
  {
   "cell_type": "code",
   "execution_count": 127,
   "id": "535ac434",
   "metadata": {},
   "outputs": [
    {
     "name": "stdout",
     "output_type": "stream",
     "text": [
      "<class 'pandas.core.frame.DataFrame'>\n",
      "RangeIndex: 1020600 entries, 0 to 1020599\n",
      "Data columns (total 6 columns):\n",
      " #   Column            Non-Null Count    Dtype  \n",
      "---  ------            --------------    -----  \n",
      " 0   Year              1020600 non-null  int64  \n",
      " 1   Month             1020600 non-null  int64  \n",
      " 2   EFPG_code         1020600 non-null  int64  \n",
      " 3   Metroregion_code  1020600 non-null  object \n",
      " 4   Attribute         1020600 non-null  object \n",
      " 5   Value             1020600 non-null  float64\n",
      "dtypes: float64(1), int64(3), object(2)\n",
      "memory usage: 46.7+ MB\n"
     ]
    }
   ],
   "source": [
    "foodprices.info()"
   ]
  },
  {
   "cell_type": "code",
   "execution_count": 132,
   "id": "045c7057",
   "metadata": {},
   "outputs": [
    {
     "data": {
      "text/plain": [
       "<Axes: ylabel='Value'>"
      ]
     },
     "execution_count": 132,
     "metadata": {},
     "output_type": "execute_result"
    },
    {
     "data": {
      "image/png": "[encoded data removed]",
      "text/plain": [
       "<Figure size 640x480 with 1 Axes>"
      ]
     },
     "metadata": {},
     "output_type": "display_data"
    }
   ],
   "source": [
    "df=foodprices.groupby('Attribute')['Value'].mean()\n",
    "df.iloc[[3,5]].plot.pie()"
   ]
  },
  {
   "cell_type": "code",
   "execution_count": 129,
   "id": "b214c26e",
   "metadata": {},
   "outputs": [],
   "source": [
    "import pingouin\n",
    "unhealthy_price=foodprices[foodprices['Attribute']=='Total unweighted monthly sales in U.S. dollars']['Value']\n",
    "healthy_price=foodprices[foodprices['Attribute']=='Total weighted monthly sales in U.S. dollars']['Value']"
   ]
  },
  {
   "cell_type": "code",
   "execution_count": 130,
   "id": "9d8f25ab",
   "metadata": {},
   "outputs": [
    {
     "data": {
      "text/html": [
       "<div>\n",
       "<style scoped>\n",
       "    .dataframe tbody tr th:only-of-type {\n",
       "        vertical-align: middle;\n",
       "    }\n",
       "\n",
       "    .dataframe tbody tr th {\n",
       "        vertical-align: top;\n",
       "    }\n",
       "\n",
       "    .dataframe thead th {\n",
       "        text-align: right;\n",
       "    }\n",
       "</style>\n",
       "<table border=\"1\" class=\"dataframe\">\n",
       "  <thead>\n",
       "    <tr style=\"text-align: right;\">\n",
       "      <th></th>\n",
       "      <th>T</th>\n",
       "      <th>dof</th>\n",
       "      <th>alternative</th>\n",
       "      <th>p-val</th>\n",
       "      <th>CI95%</th>\n",
       "      <th>cohen-d</th>\n",
       "      <th>BF10</th>\n",
       "      <th>power</th>\n",
       "    </tr>\n",
       "  </thead>\n",
       "  <tbody>\n",
       "    <tr>\n",
       "      <th>T-test</th>\n",
       "      <td>34.4679</td>\n",
       "      <td>226798</td>\n",
       "      <td>greater</td>\n",
       "      <td>5.738964e-260</td>\n",
       "      <td>[32357847.59, inf]</td>\n",
       "      <td>0.144752</td>\n",
       "      <td>1.843e+255</td>\n",
       "      <td>1.0</td>\n",
       "    </tr>\n",
       "  </tbody>\n",
       "</table>\n",
       "</div>"
      ],
      "text/plain": [
       "              T     dof alternative          p-val               CI95%  \\\n",
       "T-test  34.4679  226798     greater  5.738964e-260  [32357847.59, inf]   \n",
       "\n",
       "         cohen-d        BF10  power  \n",
       "T-test  0.144752  1.843e+255    1.0  "
      ]
     },
     "execution_count": 130,
     "metadata": {},
     "output_type": "execute_result"
    }
   ],
   "source": [
    "pingouin.ttest(x=healthy_price,y=unhealthy_price,alternative='greater')"
   ]
  },
  {
   "cell_type": "markdown",
   "id": "6f7d6efe",
   "metadata": {},
   "source": [
    "#### as p_value less than 0.05 then healthy food is expensive"
   ]
  },
  {
   "cell_type": "markdown",
   "id": "8c2c12aa",
   "metadata": {},
   "source": [
    "3. ##### **Regional Patterns** – Are there geographic trends in food affordability?  \n",
    "   ##### - The **Food Prices Dataset** includes location-based pricing data."
   ]
  },
  {
   "cell_type": "code",
   "execution_count": 133,
   "id": "a6c584b4",
   "metadata": {},
   "outputs": [
    {
     "data": {
      "text/plain": [
       "<Axes: xlabel='EFPG_code'>"
      ]
     },
     "execution_count": 133,
     "metadata": {},
     "output_type": "execute_result"
    },
    {
     "data": {
      "image/png": "[encoded data removed]",
      "text/plain": [
       "<Figure size 640x480 with 1 Axes>"
      ]
     },
     "metadata": {},
     "output_type": "display_data"
    }
   ],
   "source": [
    "foodprices[foodprices['Attribute']=='Total unweighted monthly sales in U.S. dollars'].groupby('EFPG_code')['Value'].mean().plot.line()"
   ]
  },
  {
   "cell_type": "code",
   "execution_count": 144,
   "id": "0f016198",
   "metadata": {},
   "outputs": [],
   "source": [
    "df1=foodprices[(foodprices['Attribute']=='Total unweighted monthly sales in U.S. dollars')&(foodprices['EFPG_code']==10000)]\n",
    "df2=foodprices[(foodprices['Attribute']=='Total unweighted monthly sales in U.S. dollars')&(foodprices['EFPG_code']==20000)]\n"
   ]
  },
  {
   "cell_type": "code",
   "execution_count": 143,
   "id": "19250eaf",
   "metadata": {},
   "outputs": [
    {
     "data": {
      "text/plain": [
       "<BarContainer object of 1260 artists>"
      ]
     },
     "execution_count": 143,
     "metadata": {},
     "output_type": "execute_result"
    },
    {
     "data": {
      "image/png": "[encoded data removed]",
      "text/plain": [
       "<Figure size 640x480 with 1 Axes>"
      ]
     },
     "metadata": {},
     "output_type": "display_data"
    }
   ],
   "source": [
    "plt.bar(df1['Year'],df1['Value'])"
   ]
  },
  {
   "cell_type": "markdown",
   "id": "58d68899",
   "metadata": {},
   "source": [
    "4. ##### **Data Visualization** – Create at least one chart to highlight key insights."
   ]
  },
  {
   "cell_type": "code",
   "execution_count": 145,
   "id": "c3a78d66",
   "metadata": {},
   "outputs": [
    {
     "data": {
      "text/plain": [
       "<Axes: xlabel='Year', ylabel='Value'>"
      ]
     },
     "execution_count": 145,
     "metadata": {},
     "output_type": "execute_result"
    },
    {
     "data": {
      "image/png": "[encoded data removed]",
      "text/plain": [
       "<Figure size 640x480 with 1 Axes>"
      ]
     },
     "metadata": {},
     "output_type": "display_data"
    }
   ],
   "source": [
    "sns.barplot(x='Year',y='Value',data=df2)"
   ]
  },
  {
   "cell_type": "code",
   "execution_count": null,
   "id": "b7752565",
   "metadata": {},
   "outputs": [],
   "source": []
  }
 ],
 "metadata": {
  "editor": "DataLab",
  "kernelspec": {
   "display_name": "Python 3",
   "language": "python",
   "name": "python3"
  },
  "language_info": {
   "codemirror_mode": {
    "name": "ipython",
    "version": 3
   },
   "file_extension": ".py",
   "mimetype": "text/x-python",
   "name": "python",
   "nbconvert_exporter": "python",
   "pygments_lexer": "ipython3",
   "version": "3.11.9"
  }
 },
 "nbformat": 4,
 "nbformat_minor": 5
}
